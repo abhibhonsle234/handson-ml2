{
 "cells": [
  {
   "cell_type": "markdown",
   "metadata": {},
   "source": [
    "1. What is the fundamental idea behind Support Vector Machines?"
   ]
  },
  {
   "cell_type": "markdown",
   "metadata": {},
   "source": [
    "using data points as support vectors to find a street between classes (for classification) or a wide street over data (for regression)"
   ]
  },
  {
   "cell_type": "markdown",
   "metadata": {},
   "source": [
    "2. What is a support vector?"
   ]
  },
  {
   "cell_type": "markdown",
   "metadata": {},
   "source": [
    "a support vector represents the data points in and on the edge of the street for support vector machines. The decision boundary is entirelydetermined by the support vectors. Any instance that is not a support vector (i.e., is off the street) has no influence whatsoever; you could remove them, add more instances, or move them around, and as long as they stay off the street they won’t affect the decision boundary."
   ]
  },
  {
   "cell_type": "markdown",
   "metadata": {},
   "source": [
    "3. Why is it important to scale the inputs when using SVMs?"
   ]
  },
  {
   "cell_type": "markdown",
   "metadata": {},
   "source": [
    "else the margin defind is almost orthogonal to the much large valude feature"
   ]
  },
  {
   "cell_type": "markdown",
   "metadata": {},
   "source": [
    "4. Can an SVM classifier output a confidence score when it classifies an instance?\n",
    "What about a probability?"
   ]
  },
  {
   "cell_type": "markdown",
   "metadata": {},
   "source": [
    "doesnt provide probablity as margin is not probablistic dstance based. <span style=\"color:red;\">If you set\n",
    "probability=True when creating an SVM in Scikit-Learn, then after training it\n",
    "will calibrate the probabilities using Logistic Regression on the SVM’s scores\n",
    "(trained by an additional five-fold cross-validation on the training data). This\n",
    "will add the predict_proba() and predict_log_proba() methods to the SVM</span>"
   ]
  },
  {
   "cell_type": "markdown",
   "metadata": {},
   "source": [
    "5. Should you use the primal or the dual form of the SVM problem to train a model\n",
    "on a training set with millions of instances and hundreds of features?"
   ]
  },
  {
   "cell_type": "markdown",
   "metadata": {},
   "source": [
    "<span style=\"color:red;\">This question applies only to linear SVMs since kernelized SVMs can only use\n",
    "the dual form. The computational complexity of the primal form of the SVM\n",
    "problem is proportional to the number of training instances m, while the computational\n",
    "complexity of the dual form is proportional to a number between m2 and\n",
    "m3. So if there are millions of instances, you should definitely use the primal\n",
    "form, because the dual form will be much too slow.</span>"
   ]
  },
  {
   "cell_type": "markdown",
   "metadata": {},
   "source": [
    "6. Say you’ve trained an SVM classifier with an RBF kernel, but it seems to underfit\n",
    "the training set. Should you increase or decrease γ (gamma)? What about C?"
   ]
  },
  {
   "cell_type": "markdown",
   "metadata": {},
   "source": [
    "increase gamma and/or C (regularization)"
   ]
  },
  {
   "cell_type": "markdown",
   "metadata": {},
   "source": [
    "7. How should you set the QP parameters (H, f, A, and b) to solve the soft margin\n",
    "linear SVM classifier problem using an off-the-shelf QP solver?"
   ]
  },
  {
   "cell_type": "markdown",
   "metadata": {},
   "source": [
    "<pre style=\"color:red;\">Let’s call the QP parameters for the hard margin problem H′, f′, A′, and b′ (see\n",
    "“Quadratic Programming” on page 167). The QP parameters for the soft margin\n",
    "problem have m additional parameters (np = n + 1 + m) and m additional constraints\n",
    "(nc = 2m). They can be defined like so:\n",
    "• H is equal to H′, plus m columns of 0s on the right and m rows of 0s at the\n",
    "bottom: H =\n",
    "H′ 0 ⋯\n",
    "0 0\n",
    "⋮ ⋱\n",
    "• f is equal to f′ with m additional elements, all equal to the value of the hyperparameter\n",
    "C.\n",
    "• b is equal to b′ with m additional elements, all equal to 0.\n",
    "• A is equal to A′, with an extra m × m identity matrix Im appended to the right,\n",
    "–*I*m just below it, and the rest filled with 0s: A =\n",
    "A′ Im\n",
    "0 −Im\n",
    "</pre>"
   ]
  },
  {
   "cell_type": "markdown",
   "metadata": {},
   "source": [
    "8. Train a LinearSVC on a linearly separable dataset. Then train an SVC and a\n",
    "SGDClassifier on the same dataset. See if you can get them to produce roughly\n",
    "the same model."
   ]
  },
  {
   "cell_type": "code",
   "execution_count": 1,
   "metadata": {},
   "outputs": [],
   "source": [
    "from sklearn import datasets\n",
    "\n",
    "iris = datasets.load_iris()\n",
    "X = iris[\"data\"][:, (2, 3)]  # petal length, petal width\n",
    "y = iris[\"target\"]\n",
    "\n",
    "setosa_or_versicolor_cond = (y == 0) | (y == 1)\n",
    "X = X[setosa_or_versicolor_cond]\n",
    "y = y[setosa_or_versicolor_cond]"
   ]
  },
  {
   "cell_type": "code",
   "execution_count": 5,
   "metadata": {},
   "outputs": [],
   "source": [
    "from sklearn.svm import LinearSVC\n",
    "from sklearn.svm import SVC\n",
    "from sklearn.linear_model import SGDClassifier\n",
    "\n",
    "lin_svc = LinearSVC(loss=\"hinge\", C=10, random_state=2)\n",
    "svc = SVC(kernel=\"linear\", C=10)\n",
    "sgdc = SGDClassifier(loss=\"hinge\", learning_rate='constant', eta0=0.2, random_state=2)"
   ]
  },
  {
   "cell_type": "code",
   "execution_count": 6,
   "metadata": {},
   "outputs": [],
   "source": [
    "from sklearn.preprocessing import StandardScaler\n",
    "ss = StandardScaler()\n",
    "x_final = ss.fit_transform(X)"
   ]
  },
  {
   "cell_type": "code",
   "execution_count": 8,
   "metadata": {},
   "outputs": [
    {
     "name": "stdout",
     "output_type": "stream",
     "text": [
      "model intercept coeff\n",
      "LinearSVC [0.28474837] [[1.05365141 1.09903944]]\n",
      "SVC [0.31896852] [[1.1203284  1.02625193]]\n",
      "SGDC [0.4] [[1.2965822  1.16781349]]\n"
     ]
    }
   ],
   "source": [
    "lin_svc.fit(x_final, y)\n",
    "svc.fit(x_final, y)\n",
    "sgdc.fit(x_final, y)\n",
    "\n",
    "print(\"model intercept coeff\")\n",
    "print(\"LinearSVC\", lin_svc.intercept_, lin_svc.coef_)\n",
    "print(\"SVC\", svc.intercept_, svc.coef_)\n",
    "print(\"SGDC\", sgdc.intercept_, sgdc.coef_)"
   ]
  },
  {
   "cell_type": "markdown",
   "metadata": {},
   "source": [
    "9. Train an SVM classifier on the MNIST dataset. Since SVM classifiers are binary\n",
    "classifiers, you will need to use one-versus-the-rest to classify all 10 digits. You\n",
    "may want to tune the hyperparameters using small validation sets to speed up the\n",
    "process. What accuracy can you reach?"
   ]
  },
  {
   "cell_type": "code",
   "execution_count": 21,
   "metadata": {},
   "outputs": [],
   "source": [
    "from sklearn import datasets \n",
    "\n",
    "mnist = datasets.load_digits()\n",
    "x = mnist[\"data\"]\n",
    "y = mnist[\"target\"]"
   ]
  },
  {
   "cell_type": "code",
   "execution_count": 20,
   "metadata": {},
   "outputs": [
    {
     "data": {
      "text/plain": [
       "(1797, 64)"
      ]
     },
     "execution_count": 20,
     "metadata": {},
     "output_type": "execute_result"
    }
   ],
   "source": [
    "x.shape"
   ]
  },
  {
   "cell_type": "code",
   "execution_count": 26,
   "metadata": {},
   "outputs": [],
   "source": [
    "import numpy as np\n",
    "full = np.hstack((x, y.reshape(-1, 1)))"
   ]
  },
  {
   "cell_type": "code",
   "execution_count": 27,
   "metadata": {},
   "outputs": [
    {
     "name": "stdout",
     "output_type": "stream",
     "text": [
      "(1500, 64)\n",
      "(297, 64)\n",
      "(1500,)\n",
      "(297,)\n"
     ]
    }
   ],
   "source": [
    "np.random.shuffle(full)\n",
    "\n",
    "x_train = full[:1500, :-1]\n",
    "x_test = full[1500:, :-1]\n",
    "y_train = full[:1500, -1]\n",
    "y_test = full[1500:, -1]\n",
    "\n",
    "print(x_train.shape)\n",
    "print(x_test.shape)\n",
    "print(y_train.shape)\n",
    "print(y_test.shape)"
   ]
  },
  {
   "cell_type": "code",
   "execution_count": 28,
   "metadata": {},
   "outputs": [
    {
     "name": "stderr",
     "output_type": "stream",
     "text": [
      "c:\\users\\abhishek\\appdata\\local\\programs\\python\\python36\\lib\\site-packages\\sklearn\\svm\\base.py:929: ConvergenceWarning: Liblinear failed to converge, increase the number of iterations.\n",
      "  \"the number of iterations.\", ConvergenceWarning)\n"
     ]
    },
    {
     "data": {
      "text/plain": [
       "LinearSVC(C=1.0, class_weight=None, dual=True, fit_intercept=True,\n",
       "          intercept_scaling=1, loss='squared_hinge', max_iter=1000,\n",
       "          multi_class='ovr', penalty='l2', random_state=24, tol=0.0001,\n",
       "          verbose=0)"
      ]
     },
     "execution_count": 28,
     "metadata": {},
     "output_type": "execute_result"
    }
   ],
   "source": [
    "lin_svc1 = LinearSVC(random_state=24)\n",
    "lin_svc1.fit(x_train, y_train)"
   ]
  },
  {
   "cell_type": "code",
   "execution_count": 30,
   "metadata": {},
   "outputs": [
    {
     "data": {
      "text/plain": [
       "0.9393939393939394"
      ]
     },
     "execution_count": 30,
     "metadata": {},
     "output_type": "execute_result"
    }
   ],
   "source": [
    "from sklearn.metrics import accuracy_score\n",
    "y_pred1 = lin_svc1.predict(x_test)\n",
    "\n",
    "accuracy_score(y_test, y_pred1)"
   ]
  },
  {
   "cell_type": "code",
   "execution_count": 31,
   "metadata": {},
   "outputs": [],
   "source": [
    "ss1 = StandardScaler()\n",
    "x_train_scaled1 = ss1.fit_transform(x_train)\n",
    "x_test_scaled1 = ss1.transform(x_test)"
   ]
  },
  {
   "cell_type": "code",
   "execution_count": 32,
   "metadata": {},
   "outputs": [
    {
     "name": "stderr",
     "output_type": "stream",
     "text": [
      "c:\\users\\abhishek\\appdata\\local\\programs\\python\\python36\\lib\\site-packages\\sklearn\\svm\\base.py:929: ConvergenceWarning: Liblinear failed to converge, increase the number of iterations.\n",
      "  \"the number of iterations.\", ConvergenceWarning)\n"
     ]
    },
    {
     "data": {
      "text/plain": [
       "LinearSVC(C=1.0, class_weight=None, dual=True, fit_intercept=True,\n",
       "          intercept_scaling=1, loss='squared_hinge', max_iter=1000,\n",
       "          multi_class='ovr', penalty='l2', random_state=24, tol=0.0001,\n",
       "          verbose=0)"
      ]
     },
     "execution_count": 32,
     "metadata": {},
     "output_type": "execute_result"
    }
   ],
   "source": [
    "lin_svc2 = LinearSVC(random_state=24)\n",
    "lin_svc2.fit(x_train_scaled1, y_train)"
   ]
  },
  {
   "cell_type": "code",
   "execution_count": 33,
   "metadata": {},
   "outputs": [
    {
     "data": {
      "text/plain": [
       "0.9393939393939394"
      ]
     },
     "execution_count": 33,
     "metadata": {},
     "output_type": "execute_result"
    }
   ],
   "source": [
    "y_pred2 = lin_svc2.predict(x_test_scaled1)\n",
    "accuracy_score(y_test, y_pred2)"
   ]
  },
  {
   "cell_type": "code",
   "execution_count": 39,
   "metadata": {},
   "outputs": [
    {
     "data": {
      "text/plain": [
       "SVC(C=1.0, cache_size=200, class_weight=None, coef0=0.0,\n",
       "    decision_function_shape='ovr', degree=3, gamma='scale', kernel='rbf',\n",
       "    max_iter=-1, probability=False, random_state=None, shrinking=True,\n",
       "    tol=0.001, verbose=False)"
      ]
     },
     "execution_count": 39,
     "metadata": {},
     "output_type": "execute_result"
    }
   ],
   "source": [
    "svc1 = SVC(gamma=\"scale\")\n",
    "svc1.fit(x_train_scaled1, y_train)"
   ]
  },
  {
   "cell_type": "code",
   "execution_count": 40,
   "metadata": {},
   "outputs": [
    {
     "data": {
      "text/plain": [
       "0.9797979797979798"
      ]
     },
     "execution_count": 40,
     "metadata": {},
     "output_type": "execute_result"
    }
   ],
   "source": [
    "y_pred3 = svc1.predict(x_test_scaled1)\n",
    "accuracy_score(y_test, y_pred3)"
   ]
  },
  {
   "cell_type": "code",
   "execution_count": 41,
   "metadata": {},
   "outputs": [
    {
     "name": "stdout",
     "output_type": "stream",
     "text": [
      "Fitting 3 folds for each of 20 candidates, totalling 60 fits\n",
      "[CV] C=10.860920112874624, gamma=0.003549859458034439 ................\n"
     ]
    },
    {
     "name": "stderr",
     "output_type": "stream",
     "text": [
      "[Parallel(n_jobs=1)]: Using backend SequentialBackend with 1 concurrent workers.\n"
     ]
    },
    {
     "name": "stdout",
     "output_type": "stream",
     "text": [
      "[CV] . C=10.860920112874624, gamma=0.003549859458034439, total=   0.3s\n",
      "[CV] C=10.860920112874624, gamma=0.003549859458034439 ................\n",
      "[CV] . C=10.860920112874624, gamma=0.003549859458034439, total=   0.1s\n",
      "[CV] C=10.860920112874624, gamma=0.003549859458034439 ................\n"
     ]
    },
    {
     "name": "stderr",
     "output_type": "stream",
     "text": [
      "[Parallel(n_jobs=1)]: Done   1 out of   1 | elapsed:    0.3s remaining:    0.0s\n"
     ]
    },
    {
     "name": "stdout",
     "output_type": "stream",
     "text": [
      "[CV] . C=10.860920112874624, gamma=0.003549859458034439, total=   0.2s\n",
      "[CV] C=4.635392581979675, gamma=0.03411769006296352 ..................\n",
      "[CV] ... C=4.635392581979675, gamma=0.03411769006296352, total=   0.3s\n",
      "[CV] C=4.635392581979675, gamma=0.03411769006296352 ..................\n",
      "[CV] ... C=4.635392581979675, gamma=0.03411769006296352, total=   0.3s\n",
      "[CV] C=4.635392581979675, gamma=0.03411769006296352 ..................\n",
      "[CV] ... C=4.635392581979675, gamma=0.03411769006296352, total=   0.3s\n",
      "[CV] C=8.014168864866445, gamma=0.000511732565913184 .................\n",
      "[CV] .. C=8.014168864866445, gamma=0.000511732565913184, total=   0.2s\n",
      "[CV] C=8.014168864866445, gamma=0.000511732565913184 .................\n",
      "[CV] .. C=8.014168864866445, gamma=0.000511732565913184, total=   0.1s\n",
      "[CV] C=8.014168864866445, gamma=0.000511732565913184 .................\n",
      "[CV] .. C=8.014168864866445, gamma=0.000511732565913184, total=   0.1s\n",
      "[CV] C=1.4588997207781187, gamma=0.00346627827429015 .................\n",
      "[CV] .. C=1.4588997207781187, gamma=0.00346627827429015, total=   0.1s\n",
      "[CV] C=1.4588997207781187, gamma=0.00346627827429015 .................\n",
      "[CV] .. C=1.4588997207781187, gamma=0.00346627827429015, total=   0.1s\n",
      "[CV] C=1.4588997207781187, gamma=0.00346627827429015 .................\n",
      "[CV] .. C=1.4588997207781187, gamma=0.00346627827429015, total=   0.1s\n",
      "[CV] C=3.5651019594021838, gamma=0.0032938723552137926 ...............\n",
      "[CV]  C=3.5651019594021838, gamma=0.0032938723552137926, total=   0.1s\n",
      "[CV] C=3.5651019594021838, gamma=0.0032938723552137926 ...............\n",
      "[CV]  C=3.5651019594021838, gamma=0.0032938723552137926, total=   0.1s\n",
      "[CV] C=3.5651019594021838, gamma=0.0032938723552137926 ...............\n",
      "[CV]  C=3.5651019594021838, gamma=0.0032938723552137926, total=   0.1s\n",
      "[CV] C=6.287454949866244, gamma=0.00018329211104055863 ...............\n",
      "[CV]  C=6.287454949866244, gamma=0.00018329211104055863, total=   0.2s\n",
      "[CV] C=6.287454949866244, gamma=0.00018329211104055863 ...............\n",
      "[CV]  C=6.287454949866244, gamma=0.00018329211104055863, total=   0.2s\n",
      "[CV] C=6.287454949866244, gamma=0.00018329211104055863 ...............\n",
      "[CV]  C=6.287454949866244, gamma=0.00018329211104055863, total=   0.2s\n",
      "[CV] C=7.358212104562125, gamma=0.048407203940839784 .................\n",
      "[CV] .. C=7.358212104562125, gamma=0.048407203940839784, total=   0.4s\n",
      "[CV] C=7.358212104562125, gamma=0.048407203940839784 .................\n",
      "[CV] .. C=7.358212104562125, gamma=0.048407203940839784, total=   0.4s\n",
      "[CV] C=7.358212104562125, gamma=0.048407203940839784 .................\n",
      "[CV] .. C=7.358212104562125, gamma=0.048407203940839784, total=   0.4s\n",
      "[CV] C=1.1329424991563932, gamma=0.00027010391058478856 ..............\n",
      "[CV]  C=1.1329424991563932, gamma=0.00027010391058478856, total=   0.4s\n",
      "[CV] C=1.1329424991563932, gamma=0.00027010391058478856 ..............\n",
      "[CV]  C=1.1329424991563932, gamma=0.00027010391058478856, total=   0.3s\n",
      "[CV] C=1.1329424991563932, gamma=0.00027010391058478856 ..............\n",
      "[CV]  C=1.1329424991563932, gamma=0.00027010391058478856, total=   0.4s\n",
      "[CV] C=6.592125119004736, gamma=0.0004352688464788648 ................\n",
      "[CV] . C=6.592125119004736, gamma=0.0004352688464788648, total=   0.2s\n",
      "[CV] C=6.592125119004736, gamma=0.0004352688464788648 ................\n",
      "[CV] . C=6.592125119004736, gamma=0.0004352688464788648, total=   0.2s\n",
      "[CV] C=6.592125119004736, gamma=0.0004352688464788648 ................\n",
      "[CV] . C=6.592125119004736, gamma=0.0004352688464788648, total=   0.2s\n",
      "[CV] C=8.83278482351868, gamma=0.001065972471597158 ..................\n",
      "[CV] ... C=8.83278482351868, gamma=0.001065972471597158, total=   0.1s\n",
      "[CV] C=8.83278482351868, gamma=0.001065972471597158 ..................\n",
      "[CV] ... C=8.83278482351868, gamma=0.001065972471597158, total=   0.1s\n",
      "[CV] C=8.83278482351868, gamma=0.001065972471597158 ..................\n",
      "[CV] ... C=8.83278482351868, gamma=0.001065972471597158, total=   0.1s\n",
      "[CV] C=8.790475495903184, gamma=0.0013133586298847704 ................\n",
      "[CV] . C=8.790475495903184, gamma=0.0013133586298847704, total=   0.1s\n",
      "[CV] C=8.790475495903184, gamma=0.0013133586298847704 ................\n",
      "[CV] . C=8.790475495903184, gamma=0.0013133586298847704, total=   0.1s\n",
      "[CV] C=8.790475495903184, gamma=0.0013133586298847704 ................\n",
      "[CV] . C=8.790475495903184, gamma=0.0013133586298847704, total=   0.1s\n",
      "[CV] C=5.47911970306872, gamma=0.009835514143502274 ..................\n",
      "[CV] ... C=5.47911970306872, gamma=0.009835514143502274, total=   0.1s\n",
      "[CV] C=5.47911970306872, gamma=0.009835514143502274 ..................\n",
      "[CV] ... C=5.47911970306872, gamma=0.009835514143502274, total=   0.1s\n",
      "[CV] C=5.47911970306872, gamma=0.009835514143502274 ..................\n",
      "[CV] ... C=5.47911970306872, gamma=0.009835514143502274, total=   0.2s\n",
      "[CV] C=9.43917033342018, gamma=0.027885735813115275 ..................\n",
      "[CV] ... C=9.43917033342018, gamma=0.027885735813115275, total=   0.2s\n",
      "[CV] C=9.43917033342018, gamma=0.027885735813115275 ..................\n",
      "[CV] ... C=9.43917033342018, gamma=0.027885735813115275, total=   0.2s\n",
      "[CV] C=9.43917033342018, gamma=0.027885735813115275 ..................\n",
      "[CV] ... C=9.43917033342018, gamma=0.027885735813115275, total=   0.2s\n",
      "[CV] C=5.181298121601164, gamma=0.001542332225813309 .................\n",
      "[CV] .. C=5.181298121601164, gamma=0.001542332225813309, total=   0.1s\n",
      "[CV] C=5.181298121601164, gamma=0.001542332225813309 .................\n",
      "[CV] .. C=5.181298121601164, gamma=0.001542332225813309, total=   0.1s\n",
      "[CV] C=5.181298121601164, gamma=0.001542332225813309 .................\n",
      "[CV] .. C=5.181298121601164, gamma=0.001542332225813309, total=   0.1s\n",
      "[CV] C=1.1079673959419936, gamma=0.014120031556442713 ................\n",
      "[CV] . C=1.1079673959419936, gamma=0.014120031556442713, total=   0.2s\n",
      "[CV] C=1.1079673959419936, gamma=0.014120031556442713 ................\n",
      "[CV] . C=1.1079673959419936, gamma=0.014120031556442713, total=   0.2s\n",
      "[CV] C=1.1079673959419936, gamma=0.014120031556442713 ................\n",
      "[CV] . C=1.1079673959419936, gamma=0.014120031556442713, total=   0.2s\n",
      "[CV] C=1.1143689350138166, gamma=0.00016671896059630405 ..............\n",
      "[CV]  C=1.1143689350138166, gamma=0.00016671896059630405, total=   0.4s\n",
      "[CV] C=1.1143689350138166, gamma=0.00016671896059630405 ..............\n",
      "[CV]  C=1.1143689350138166, gamma=0.00016671896059630405, total=   0.4s\n",
      "[CV] C=1.1143689350138166, gamma=0.00016671896059630405 ..............\n",
      "[CV]  C=1.1143689350138166, gamma=0.00016671896059630405, total=   0.4s\n",
      "[CV] C=1.2342156990863142, gamma=0.03580952980986484 .................\n",
      "[CV] .. C=1.2342156990863142, gamma=0.03580952980986484, total=   0.3s\n",
      "[CV] C=1.2342156990863142, gamma=0.03580952980986484 .................\n",
      "[CV] .. C=1.2342156990863142, gamma=0.03580952980986484, total=   0.3s\n",
      "[CV] C=1.2342156990863142, gamma=0.03580952980986484 .................\n",
      "[CV] .. C=1.2342156990863142, gamma=0.03580952980986484, total=   0.3s\n",
      "[CV] C=10.23238897869307, gamma=0.09142169999482688 ..................\n",
      "[CV] ... C=10.23238897869307, gamma=0.09142169999482688, total=   0.4s\n",
      "[CV] C=10.23238897869307, gamma=0.09142169999482688 ..................\n",
      "[CV] ... C=10.23238897869307, gamma=0.09142169999482688, total=   0.5s\n",
      "[CV] C=10.23238897869307, gamma=0.09142169999482688 ..................\n",
      "[CV] ... C=10.23238897869307, gamma=0.09142169999482688, total=   0.4s\n",
      "[CV] C=5.771112108579993, gamma=0.0001560515131582496 ................\n",
      "[CV] . C=5.771112108579993, gamma=0.0001560515131582496, total=   0.2s\n",
      "[CV] C=5.771112108579993, gamma=0.0001560515131582496 ................\n",
      "[CV] . C=5.771112108579993, gamma=0.0001560515131582496, total=   0.2s\n",
      "[CV] C=5.771112108579993, gamma=0.0001560515131582496 ................\n",
      "[CV] . C=5.771112108579993, gamma=0.0001560515131582496, total=   0.3s\n",
      "[CV] C=9.979937827616306, gamma=0.006653388819673122 .................\n",
      "[CV] .. C=9.979937827616306, gamma=0.006653388819673122, total=   0.1s\n",
      "[CV] C=9.979937827616306, gamma=0.006653388819673122 .................\n",
      "[CV] .. C=9.979937827616306, gamma=0.006653388819673122, total=   0.1s\n",
      "[CV] C=9.979937827616306, gamma=0.006653388819673122 .................\n",
      "[CV] .. C=9.979937827616306, gamma=0.006653388819673122, total=   0.1s\n"
     ]
    },
    {
     "name": "stderr",
     "output_type": "stream",
     "text": [
      "[Parallel(n_jobs=1)]: Done  60 out of  60 | elapsed:   13.3s finished\n"
     ]
    },
    {
     "data": {
      "text/plain": [
       "RandomizedSearchCV(cv=3, error_score='raise-deprecating',\n",
       "                   estimator=SVC(C=1.0, cache_size=200, class_weight=None,\n",
       "                                 coef0=0.0, decision_function_shape='ovr',\n",
       "                                 degree=3, gamma='scale', kernel='rbf',\n",
       "                                 max_iter=-1, probability=False,\n",
       "                                 random_state=None, shrinking=True, tol=0.001,\n",
       "                                 verbose=False),\n",
       "                   iid='warn', n_iter=20, n_jobs=None,\n",
       "                   param_distributions={'C': <scipy.stats._distn_infrastructure.rv_frozen object at 0x00000228FEDE5278>,\n",
       "                                        'gamma': <scipy.stats._distn_infrastructure.rv_frozen object at 0x00000228FCC8EC88>},\n",
       "                   pre_dispatch='2*n_jobs', random_state=None, refit=True,\n",
       "                   return_train_score=False, scoring=None, verbose=2)"
      ]
     },
     "execution_count": 41,
     "metadata": {},
     "output_type": "execute_result"
    }
   ],
   "source": [
    "from sklearn.model_selection import RandomizedSearchCV\n",
    "from scipy.stats import reciprocal, uniform\n",
    "\n",
    "param_range = {\"gamma\": reciprocal(0.0001, 0.1), \"C\": uniform(1, 10)}\n",
    "rnd_search_cv = RandomizedSearchCV(svc1, param_range, n_iter=20, verbose=2, cv=3)\n",
    "rnd_search_cv.fit(x_train_scaled1, y_train)"
   ]
  },
  {
   "cell_type": "code",
   "execution_count": 42,
   "metadata": {},
   "outputs": [
    {
     "data": {
      "text/plain": [
       "SVC(C=10.860920112874624, cache_size=200, class_weight=None, coef0=0.0,\n",
       "    decision_function_shape='ovr', degree=3, gamma=0.003549859458034439,\n",
       "    kernel='rbf', max_iter=-1, probability=False, random_state=None,\n",
       "    shrinking=True, tol=0.001, verbose=False)"
      ]
     },
     "execution_count": 42,
     "metadata": {},
     "output_type": "execute_result"
    }
   ],
   "source": [
    "rnd_search_cv.best_estimator_"
   ]
  },
  {
   "cell_type": "code",
   "execution_count": 43,
   "metadata": {},
   "outputs": [
    {
     "data": {
      "text/plain": [
       "{'C': 10.860920112874624, 'gamma': 0.003549859458034439}"
      ]
     },
     "execution_count": 43,
     "metadata": {},
     "output_type": "execute_result"
    }
   ],
   "source": [
    "rnd_search_cv.best_params_"
   ]
  },
  {
   "cell_type": "code",
   "execution_count": 44,
   "metadata": {},
   "outputs": [
    {
     "data": {
      "text/plain": [
       "0.984"
      ]
     },
     "execution_count": 44,
     "metadata": {},
     "output_type": "execute_result"
    }
   ],
   "source": [
    "\n",
    "rnd_search_cv.best_score_"
   ]
  },
  {
   "cell_type": "code",
   "execution_count": 46,
   "metadata": {},
   "outputs": [
    {
     "data": {
      "text/plain": [
       "SVC(C=10.860920112874624, cache_size=200, class_weight=None, coef0=0.0,\n",
       "    decision_function_shape='ovr', degree=3, gamma=0.003549859458034439,\n",
       "    kernel='rbf', max_iter=-1, probability=False, random_state=None,\n",
       "    shrinking=True, tol=0.001, verbose=False)"
      ]
     },
     "execution_count": 46,
     "metadata": {},
     "output_type": "execute_result"
    }
   ],
   "source": [
    "rnd_search_cv.best_estimator_.fit(x_train_scaled1, y_train)"
   ]
  },
  {
   "cell_type": "code",
   "execution_count": 48,
   "metadata": {},
   "outputs": [
    {
     "data": {
      "text/plain": [
       "0.9831649831649831"
      ]
     },
     "execution_count": 48,
     "metadata": {},
     "output_type": "execute_result"
    }
   ],
   "source": [
    "y_pred4 = rnd_search_cv.best_estimator_.predict(x_test_scaled1)\n",
    "accuracy_score(y_test, y_pred4)"
   ]
  },
  {
   "cell_type": "markdown",
   "metadata": {},
   "source": [
    "10. Train an SVM regressor on the California housing dataset."
   ]
  },
  {
   "cell_type": "code",
   "execution_count": 51,
   "metadata": {},
   "outputs": [],
   "source": [
    "from sklearn.datasets import fetch_california_housing\n",
    "\n",
    "housing = fetch_california_housing()\n",
    "x = housing[\"data\"]\n",
    "y = housing[\"target\"]"
   ]
  },
  {
   "cell_type": "code",
   "execution_count": 54,
   "metadata": {},
   "outputs": [],
   "source": [
    "from sklearn.model_selection import train_test_split\n",
    "\n",
    "X_train, X_test, y_train, y_test = train_test_split(X, y, test_size=0.2, random_state=24)"
   ]
  },
  {
   "cell_type": "code",
   "execution_count": 56,
   "metadata": {},
   "outputs": [],
   "source": [
    "ss_housing = StandardScaler()\n",
    "X_train_scaled = ss_housing.fit_transform(X_train)\n",
    "X_test_scaled = ss_housing.transform(X_test)"
   ]
  },
  {
   "cell_type": "code",
   "execution_count": 57,
   "metadata": {},
   "outputs": [
    {
     "name": "stderr",
     "output_type": "stream",
     "text": [
      "c:\\users\\abhishek\\appdata\\local\\programs\\python\\python36\\lib\\site-packages\\sklearn\\svm\\base.py:929: ConvergenceWarning: Liblinear failed to converge, increase the number of iterations.\n",
      "  \"the number of iterations.\", ConvergenceWarning)\n"
     ]
    },
    {
     "data": {
      "text/plain": [
       "LinearSVR(C=1.0, dual=True, epsilon=0.0, fit_intercept=True,\n",
       "          intercept_scaling=1.0, loss='epsilon_insensitive', max_iter=1000,\n",
       "          random_state=24, tol=0.0001, verbose=0)"
      ]
     },
     "execution_count": 57,
     "metadata": {},
     "output_type": "execute_result"
    }
   ],
   "source": [
    "from sklearn.svm import LinearSVR\n",
    "\n",
    "lin_svr = LinearSVR(random_state=24)\n",
    "lin_svr.fit(X_train_scaled, y_train)"
   ]
  },
  {
   "cell_type": "code",
   "execution_count": 58,
   "metadata": {},
   "outputs": [
    {
     "data": {
      "text/plain": [
       "0.8794326114193507"
      ]
     },
     "execution_count": 58,
     "metadata": {},
     "output_type": "execute_result"
    }
   ],
   "source": [
    "from sklearn.metrics import mean_squared_error\n",
    "\n",
    "y_pred = lin_svr.predict(X_train_scaled)\n",
    "mse = mean_squared_error(y_train, y_pred)\n",
    "mse"
   ]
  },
  {
   "cell_type": "code",
   "execution_count": 59,
   "metadata": {},
   "outputs": [
    {
     "data": {
      "text/plain": [
       "0.9377806840724279"
      ]
     },
     "execution_count": 59,
     "metadata": {},
     "output_type": "execute_result"
    }
   ],
   "source": [
    "np.sqrt(mse)"
   ]
  },
  {
   "cell_type": "code",
   "execution_count": 60,
   "metadata": {},
   "outputs": [
    {
     "name": "stdout",
     "output_type": "stream",
     "text": [
      "Fitting 3 folds for each of 10 candidates, totalling 30 fits\n",
      "[CV] C=4.745401188473625, gamma=0.07969454818643928 ..................\n"
     ]
    },
    {
     "name": "stderr",
     "output_type": "stream",
     "text": [
      "[Parallel(n_jobs=1)]: Using backend SequentialBackend with 1 concurrent workers.\n"
     ]
    },
    {
     "name": "stdout",
     "output_type": "stream",
     "text": [
      "[CV] ... C=4.745401188473625, gamma=0.07969454818643928, total=  16.9s\n",
      "[CV] C=4.745401188473625, gamma=0.07969454818643928 ..................\n"
     ]
    },
    {
     "name": "stderr",
     "output_type": "stream",
     "text": [
      "[Parallel(n_jobs=1)]: Done   1 out of   1 | elapsed:   16.8s remaining:    0.0s\n"
     ]
    },
    {
     "name": "stdout",
     "output_type": "stream",
     "text": [
      "[CV] ... C=4.745401188473625, gamma=0.07969454818643928, total=  13.8s\n",
      "[CV] C=4.745401188473625, gamma=0.07969454818643928 ..................\n",
      "[CV] ... C=4.745401188473625, gamma=0.07969454818643928, total=  15.0s\n",
      "[CV] C=8.31993941811405, gamma=0.015751320499779724 ..................\n",
      "[CV] ... C=8.31993941811405, gamma=0.015751320499779724, total=  12.2s\n",
      "[CV] C=8.31993941811405, gamma=0.015751320499779724 ..................\n",
      "[CV] ... C=8.31993941811405, gamma=0.015751320499779724, total=  12.5s\n",
      "[CV] C=8.31993941811405, gamma=0.015751320499779724 ..................\n",
      "[CV] ... C=8.31993941811405, gamma=0.015751320499779724, total=  14.2s\n",
      "[CV] C=2.560186404424365, gamma=0.002051110418843397 .................\n",
      "[CV] .. C=2.560186404424365, gamma=0.002051110418843397, total=  11.7s\n",
      "[CV] C=2.560186404424365, gamma=0.002051110418843397 .................\n",
      "[CV] .. C=2.560186404424365, gamma=0.002051110418843397, total=  10.5s\n",
      "[CV] C=2.560186404424365, gamma=0.002051110418843397 .................\n",
      "[CV] .. C=2.560186404424365, gamma=0.002051110418843397, total=  10.4s\n",
      "[CV] C=1.5808361216819946, gamma=0.05399484409787431 .................\n",
      "[CV] .. C=1.5808361216819946, gamma=0.05399484409787431, total=  10.8s\n",
      "[CV] C=1.5808361216819946, gamma=0.05399484409787431 .................\n",
      "[CV] .. C=1.5808361216819946, gamma=0.05399484409787431, total=  11.9s\n",
      "[CV] C=1.5808361216819946, gamma=0.05399484409787431 .................\n",
      "[CV] .. C=1.5808361216819946, gamma=0.05399484409787431, total=  12.1s\n",
      "[CV] C=7.011150117432088, gamma=0.026070247583707663 .................\n",
      "[CV] .. C=7.011150117432088, gamma=0.026070247583707663, total=  14.5s\n",
      "[CV] C=7.011150117432088, gamma=0.026070247583707663 .................\n",
      "[CV] .. C=7.011150117432088, gamma=0.026070247583707663, total=  13.5s\n",
      "[CV] C=7.011150117432088, gamma=0.026070247583707663 .................\n",
      "[CV] .. C=7.011150117432088, gamma=0.026070247583707663, total=  13.7s\n",
      "[CV] C=1.2058449429580245, gamma=0.0870602087830485 ..................\n",
      "[CV] ... C=1.2058449429580245, gamma=0.0870602087830485, total=  12.0s\n",
      "[CV] C=1.2058449429580245, gamma=0.0870602087830485 ..................\n",
      "[CV] ... C=1.2058449429580245, gamma=0.0870602087830485, total=  11.4s\n",
      "[CV] C=1.2058449429580245, gamma=0.0870602087830485 ..................\n",
      "[CV] ... C=1.2058449429580245, gamma=0.0870602087830485, total=  10.1s\n",
      "[CV] C=9.324426408004218, gamma=0.0026587543983272693 ................\n",
      "[CV] . C=9.324426408004218, gamma=0.0026587543983272693, total=  10.3s\n",
      "[CV] C=9.324426408004218, gamma=0.0026587543983272693 ................\n",
      "[CV] . C=9.324426408004218, gamma=0.0026587543983272693, total=  10.2s\n",
      "[CV] C=9.324426408004218, gamma=0.0026587543983272693 ................\n",
      "[CV] . C=9.324426408004218, gamma=0.0026587543983272693, total=  10.3s\n",
      "[CV] C=2.818249672071006, gamma=0.0023270677083837795 ................\n",
      "[CV] . C=2.818249672071006, gamma=0.0023270677083837795, total=  10.1s\n",
      "[CV] C=2.818249672071006, gamma=0.0023270677083837795 ................\n",
      "[CV] . C=2.818249672071006, gamma=0.0023270677083837795, total=  10.4s\n",
      "[CV] C=2.818249672071006, gamma=0.0023270677083837795 ................\n",
      "[CV] . C=2.818249672071006, gamma=0.0023270677083837795, total=  10.5s\n",
      "[CV] C=4.042422429595377, gamma=0.011207606211860567 .................\n",
      "[CV] .. C=4.042422429595377, gamma=0.011207606211860567, total=  10.5s\n",
      "[CV] C=4.042422429595377, gamma=0.011207606211860567 .................\n",
      "[CV] .. C=4.042422429595377, gamma=0.011207606211860567, total=  10.2s\n",
      "[CV] C=4.042422429595377, gamma=0.011207606211860567 .................\n",
      "[CV] .. C=4.042422429595377, gamma=0.011207606211860567, total=  10.5s\n",
      "[CV] C=5.319450186421157, gamma=0.003823475224675185 .................\n",
      "[CV] .. C=5.319450186421157, gamma=0.003823475224675185, total=  12.3s\n",
      "[CV] C=5.319450186421157, gamma=0.003823475224675185 .................\n",
      "[CV] .. C=5.319450186421157, gamma=0.003823475224675185, total=  12.7s\n",
      "[CV] C=5.319450186421157, gamma=0.003823475224675185 .................\n",
      "[CV] .. C=5.319450186421157, gamma=0.003823475224675185, total=  13.1s\n"
     ]
    },
    {
     "name": "stderr",
     "output_type": "stream",
     "text": [
      "[Parallel(n_jobs=1)]: Done  30 out of  30 | elapsed:  6.0min finished\n"
     ]
    },
    {
     "data": {
      "text/plain": [
       "RandomizedSearchCV(cv=3, error_score='raise-deprecating',\n",
       "                   estimator=SVR(C=1.0, cache_size=200, coef0=0.0, degree=3,\n",
       "                                 epsilon=0.1, gamma='auto_deprecated',\n",
       "                                 kernel='rbf', max_iter=-1, shrinking=True,\n",
       "                                 tol=0.001, verbose=False),\n",
       "                   iid='warn', n_iter=10, n_jobs=None,\n",
       "                   param_distributions={'C': <scipy.stats._distn_infrastructure.rv_frozen object at 0x00000228FCA15F60>,\n",
       "                                        'gamma': <scipy.stats._distn_infrastructure.rv_frozen object at 0x00000228FEDD87B8>},\n",
       "                   pre_dispatch='2*n_jobs', random_state=42, refit=True,\n",
       "                   return_train_score=False, scoring=None, verbose=2)"
      ]
     },
     "execution_count": 60,
     "metadata": {},
     "output_type": "execute_result"
    }
   ],
   "source": [
    "from sklearn.svm import SVR\n",
    "from sklearn.model_selection import RandomizedSearchCV\n",
    "from scipy.stats import reciprocal, uniform\n",
    "\n",
    "param_distributions = {\"gamma\": reciprocal(0.001, 0.1), \"C\": uniform(1, 10)}\n",
    "rnd_search_cv = RandomizedSearchCV(SVR(), param_distributions, n_iter=10, verbose=2, cv=3, random_state=42)\n",
    "rnd_search_cv.fit(X_train_scaled, y_train)"
   ]
  },
  {
   "cell_type": "code",
   "execution_count": 61,
   "metadata": {},
   "outputs": [
    {
     "data": {
      "text/plain": [
       "SVR(C=4.745401188473625, cache_size=200, coef0=0.0, degree=3, epsilon=0.1,\n",
       "    gamma=0.07969454818643928, kernel='rbf', max_iter=-1, shrinking=True,\n",
       "    tol=0.001, verbose=False)"
      ]
     },
     "execution_count": 61,
     "metadata": {},
     "output_type": "execute_result"
    }
   ],
   "source": [
    "rnd_search_cv.best_estimator_"
   ]
  },
  {
   "cell_type": "code",
   "execution_count": 62,
   "metadata": {},
   "outputs": [
    {
     "data": {
      "text/plain": [
       "0.5746589015117773"
      ]
     },
     "execution_count": 62,
     "metadata": {},
     "output_type": "execute_result"
    }
   ],
   "source": [
    "y_pred = rnd_search_cv.best_estimator_.predict(X_train_scaled)\n",
    "mse = mean_squared_error(y_train, y_pred)\n",
    "np.sqrt(mse)"
   ]
  },
  {
   "cell_type": "code",
   "execution_count": 63,
   "metadata": {},
   "outputs": [
    {
     "data": {
      "text/plain": [
       "0.5837289635647664"
      ]
     },
     "execution_count": 63,
     "metadata": {},
     "output_type": "execute_result"
    }
   ],
   "source": [
    "y_pred = rnd_search_cv.best_estimator_.predict(X_test_scaled)\n",
    "mse = mean_squared_error(y_test, y_pred)\n",
    "np.sqrt(mse)"
   ]
  },
  {
   "cell_type": "code",
   "execution_count": null,
   "metadata": {},
   "outputs": [],
   "source": []
  }
 ],
 "metadata": {
  "kernelspec": {
   "display_name": "Python 3",
   "language": "python",
   "name": "python3"
  },
  "language_info": {
   "codemirror_mode": {
    "name": "ipython",
    "version": 3
   },
   "file_extension": ".py",
   "mimetype": "text/x-python",
   "name": "python",
   "nbconvert_exporter": "python",
   "pygments_lexer": "ipython3",
   "version": "3.6.1"
  },
  "toc": {
   "base_numbering": 1,
   "nav_menu": {},
   "number_sections": true,
   "sideBar": true,
   "skip_h1_title": false,
   "title_cell": "Table of Contents",
   "title_sidebar": "Contents",
   "toc_cell": false,
   "toc_position": {},
   "toc_section_display": true,
   "toc_window_display": false
  }
 },
 "nbformat": 4,
 "nbformat_minor": 2
}
