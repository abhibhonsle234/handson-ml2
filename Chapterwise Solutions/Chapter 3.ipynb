{
 "cells": [
  {
   "cell_type": "code",
   "execution_count": 1,
   "metadata": {},
   "outputs": [],
   "source": [
    "# notebook requires stuff from ./03_classification.ipynb"
   ]
  },
  {
   "cell_type": "markdown",
   "metadata": {},
   "source": [
    "1. Try to build a classifier for the MNIST dataset that achieves over 97% accuracy\n",
    "on the test set. Hint: the KNeighborsClassifier works quite well for this task;\n",
    "you just need to find good hyperparameter values (try a grid search on the\n",
    "weights and n_neighbors hyperparameters)."
   ]
  },
  {
   "cell_type": "raw",
   "metadata": {},
   "source": [
    "from sklearn.model_selection import GridSearchCV\n",
    "\n",
    "param_grid_q1 = [{'weights':['uniform', 'distance'], 'n_neighbors':[1, 2, 3, 4, 5, 6]}]\n",
    "\n",
    "knn_q1 = KNeighborsClassifier()\n",
    "grid_q1 = GridSearchCV(knn_q1, cv=4, param_grid=param_grid_q1, verbose=2, n_jobs = -1)\n",
    "\n",
    "grid_q1.fit(X_train, y_train)"
   ]
  },
  {
   "cell_type": "raw",
   "metadata": {},
   "source": [
    "grid_q1.best_params_"
   ]
  },
  {
   "cell_type": "raw",
   "metadata": {},
   "source": [
    "grid_search.best_score_"
   ]
  },
  {
   "cell_type": "raw",
   "metadata": {},
   "source": [
    "from sklearn.metrics import accuracy_score\n",
    "\n",
    "y_pred = grid_search.predict(X_test)\n",
    "accuracy_score(y_test, y_pred)"
   ]
  },
  {
   "cell_type": "markdown",
   "metadata": {},
   "source": [
    "2. Write a function that can shift an MNIST image in any direction (left, right, up,\n",
    "or down) by one pixel.5 Then, for each image in the training set, create four shifted\n",
    "copies (one per direction) and add them to the training set. Finally, train your\n",
    "best model on this expanded training set and measure its accuracy on the test set.\n",
    "You should observe that your model performs even better now! This technique of\n",
    "artificially growing the training set is called data augmentation or training set\n",
    "expansion."
   ]
  },
  {
   "cell_type": "raw",
   "metadata": {},
   "source": [
    "from scipy.ndimage.interpolation import shift"
   ]
  },
  {
   "cell_type": "raw",
   "metadata": {},
   "source": [
    "def shift_image(image, dx, dy):\n",
    "    image = image.reshape((28, 28))\n",
    "    shifted_image = shift(image, [dy, dx], cval=0, mode=\"constant\")\n",
    "    return shifted_image.reshape([-1])"
   ]
  },
  {
   "cell_type": "raw",
   "metadata": {},
   "source": [
    "image = X_train[1000]\n",
    "shifted_image_down = shift_image(image, 0, 5)\n",
    "shifted_image_left = shift_image(image, -5, 0)\n",
    "\n",
    "plt.figure(figsize=(12,3))\n",
    "plt.subplot(131)\n",
    "plt.title(\"Original\", fontsize=14)\n",
    "plt.imshow(image.reshape(28, 28), interpolation=\"nearest\", cmap=\"Greys\")\n",
    "plt.subplot(132)\n",
    "plt.title(\"Shifted down\", fontsize=14)\n",
    "plt.imshow(shifted_image_down.reshape(28, 28), interpolation=\"nearest\", cmap=\"Greys\")\n",
    "plt.subplot(133)\n",
    "plt.title(\"Shifted left\", fontsize=14)\n",
    "plt.imshow(shifted_image_left.reshape(28, 28), interpolation=\"nearest\", cmap=\"Greys\")\n",
    "plt.show()"
   ]
  },
  {
   "cell_type": "raw",
   "metadata": {},
   "source": [
    "X_train_augmented = [image for image in X_train]\n",
    "y_train_augmented = [label for label in y_train]\n",
    "\n",
    "for dx, dy in ((1, 0), (-1, 0), (0, 1), (0, -1)):\n",
    "    for image, label in zip(X_train, y_train):\n",
    "        X_train_augmented.append(shift_image(image, dx, dy))\n",
    "        y_train_augmented.append(label)\n",
    "\n",
    "X_train_augmented = np.array(X_train_augmented)\n",
    "y_train_augmented = np.array(y_train_augmented)"
   ]
  },
  {
   "cell_type": "raw",
   "metadata": {},
   "source": [
    "shuffle_idx = np.random.permutation(len(X_train_augmented))\n",
    "X_train_augmented = X_train_augmented[shuffle_idx]\n",
    "y_train_augmented = y_train_augmented[shuffle_idx]"
   ]
  },
  {
   "cell_type": "raw",
   "metadata": {},
   "source": [
    "knn_clf = KNeighborsClassifier(**grid_search.best_params_)"
   ]
  },
  {
   "cell_type": "raw",
   "metadata": {},
   "source": [
    "knn_clf.fit(X_train_augmented, y_train_augmented)"
   ]
  },
  {
   "cell_type": "raw",
   "metadata": {},
   "source": [
    "y_pred = knn_clf.predict(X_test)\n",
    "accuracy_score(y_test, y_pred)"
   ]
  },
  {
   "cell_type": "markdown",
   "metadata": {},
   "source": [
    "3. Tackle the Titanic dataset. A great place to start is on Kaggle."
   ]
  },
  {
   "cell_type": "markdown",
   "metadata": {},
   "source": [
    "In contribution with <a href=\"https://www.kaggle.com/amandinesh\">Aman Dinesh</a> "
   ]
  },
  {
   "cell_type": "code",
   "execution_count": 2,
   "metadata": {},
   "outputs": [],
   "source": [
    "# Importing the libraries\n",
    "import pandas as pd\n",
    "import numpy as np\n",
    "import matplotlib.pyplot as plt"
   ]
  },
  {
   "cell_type": "code",
   "execution_count": 3,
   "metadata": {},
   "outputs": [],
   "source": [
    "# Importing the dataset\n",
    "#get parent directory:\n",
    "import os\n",
    "parentDirectory = os.path.abspath(os.path.join(os.getcwd(), os.pardir))\n",
    "\n",
    "train = pd.read_csv(os.path.join(parentDirectory, 'datasets', 'titanic', 'train.csv'))\n",
    "test = pd.read_csv(os.path.join(parentDirectory, 'datasets', 'titanic', 'test.csv'))"
   ]
  },
  {
   "cell_type": "code",
   "execution_count": 4,
   "metadata": {},
   "outputs": [
    {
     "data": {
      "text/plain": [
       "Mr          517\n",
       "Miss        182\n",
       "Mrs         125\n",
       "Master       40\n",
       "Dr            7\n",
       "Rev           6\n",
       "Col           2\n",
       "Major         2\n",
       "Mlle          2\n",
       "Ms            1\n",
       "Sir           1\n",
       "Don           1\n",
       "Mme           1\n",
       "Countess      1\n",
       "Capt          1\n",
       "Lady          1\n",
       "Jonkheer      1\n",
       "Name: Title, dtype: int64"
      ]
     },
     "execution_count": 4,
     "metadata": {},
     "output_type": "execute_result"
    }
   ],
   "source": [
    "# Feature Engineering\n",
    "# Name\n",
    "train_test_data = [train, test] # combining train and test data\n",
    "\n",
    "for dataset in train_test_data:\n",
    "    dataset['Title'] = dataset['Name'].str.extract(' ([A-Za-z]+)\\.', expand=False)\n",
    "    \n",
    "train['Title'].value_counts()"
   ]
  },
  {
   "cell_type": "code",
   "execution_count": 5,
   "metadata": {},
   "outputs": [],
   "source": [
    "# Title Map\n",
    "# Mr: 0 Miss: 1 Others: 3\n",
    "\n",
    "title_mapping = {\"Mr\": 0, \"Miss\": 1, \"Mrs\": 2,\n",
    "                 \"Master\": 3, \"Dr\": 3, \"Rev\": 3, \"Col\": 3, \"Major\": 3, \"Mlle\": 3, \"Countess\": 3,\n",
    "                 \"Ms\": 3, \"Lady\": 3, \"Jonkheer\": 3, \"Don\": 3, \"Dona\": 3, \"Mme\": 3, \"Capt\": 3, \"Sir\": 3}\n",
    "for dataset in train_test_data:\n",
    "    dataset['Title'] = dataset['Title'].map(title_mapping)"
   ]
  },
  {
   "cell_type": "code",
   "execution_count": 6,
   "metadata": {},
   "outputs": [],
   "source": [
    "# Delete unnecessary features from dataset\n",
    "train.drop('Name', axis = 1, inplace = True)\n",
    "test.drop('Name', axis = 1, inplace = True)"
   ]
  },
  {
   "cell_type": "code",
   "execution_count": 7,
   "metadata": {},
   "outputs": [],
   "source": [
    "# Sex\n",
    "# male: 0 female: 1\n",
    "sex_mapping = {\"male\": 0, \"female\": 1}\n",
    "for dataset in train_test_data:\n",
    "    dataset['Sex'] = dataset['Sex'].map(sex_mapping)"
   ]
  },
  {
   "cell_type": "code",
   "execution_count": 8,
   "metadata": {},
   "outputs": [],
   "source": [
    "# Age \n",
    "# Some age is missing Let's use Title's median age for missing Age\n",
    "# fill missing age with median age for each title {Mr, Mrs, Miss, Others}\n",
    "train[\"Age\"].fillna(train.groupby(\"Title\")[\"Age\"].transform(\"median\"), inplace = True)\n",
    "test[\"Age\"].fillna(test.groupby(\"Title\")[\"Age\"].transform(\"median\"), inplace = True)"
   ]
  },
  {
   "cell_type": "code",
   "execution_count": 9,
   "metadata": {},
   "outputs": [],
   "source": [
    "# Bining\n",
    "# Bining/ Converting Numerical Age to Categorical Value\n",
    "# feature vector map: child: 0 yound: 1 adult: 2 mid-age: 3 senior: 4\n",
    "for dataset in train_test_data:\n",
    "    dataset.loc[ dataset['Age'] <= 16, 'Age'] = 0,\n",
    "    dataset.loc[ (dataset['Age'] > 16) & (dataset['Age'] <= 26), 'Age'] = 1,\n",
    "    dataset.loc[ (dataset['Age'] > 26) & (dataset['Age'] <= 36), 'Age'] = 2,\n",
    "    dataset.loc[ (dataset['Age'] > 36) & (dataset['Age'] <= 62), 'Age'] = 3,\n",
    "    dataset.loc[ dataset['Age'] > 62, 'Age'] = 4"
   ]
  },
  {
   "cell_type": "code",
   "execution_count": 10,
   "metadata": {},
   "outputs": [],
   "source": [
    "# Embarked\n",
    "# Filling missing values\n",
    "# Fill out missing embark with S embark\n",
    "for dataset in train_test_data:\n",
    "    dataset['Embarked'] = dataset['Embarked'].fillna('S')\n",
    "    \n",
    "embarked_mapping = {\"S\": 0, \"C\": 1, \"Q\": 2}\n",
    "for dataset in train_test_data:\n",
    "    dataset['Embarked'] = dataset['Embarked'].map(embarked_mapping)"
   ]
  },
  {
   "cell_type": "code",
   "execution_count": 11,
   "metadata": {},
   "outputs": [],
   "source": [
    "# Fare\n",
    "# Fill missing Fare with median from each Pclass\n",
    "train['Fare'].fillna(train.groupby(\"Pclass\")[\"Fare\"].transform(\"median\"), inplace = True)\n",
    "test['Fare'].fillna(test.groupby(\"Pclass\")[\"Fare\"].transform(\"median\"), inplace = True)\n",
    "\n",
    "for dataset in train_test_data:\n",
    "    dataset.loc[ dataset['Fare'] <= 17, 'Fare'] = 0,\n",
    "    dataset.loc[ (dataset['Fare'] > 17) & (dataset['Fare'] <= 30), 'Fare'] = 1,\n",
    "    dataset.loc[ (dataset['Fare'] > 30) & (dataset['Fare'] <= 100), 'Fare'] = 2,\n",
    "    dataset.loc[ (dataset['Fare'] > 100), 'Fare'] = 3   "
   ]
  },
  {
   "cell_type": "code",
   "execution_count": 12,
   "metadata": {},
   "outputs": [],
   "source": [
    "# Cabin\n",
    "train.Cabin.value_counts()\n",
    "for dataset in train_test_data:\n",
    "    dataset['Cabin'] = dataset['Cabin'].str[:1]\n",
    "\n",
    "cabin_mapping = {\"A\": 0, \"B\": 0.4, \"C\": 0.8, \"D\": 1.2, \"E\": 1.6, \"F\": 2, \"G\": 2.4, \"T\": 2.8}\n",
    "for dataset in train_test_data:\n",
    "    dataset['Cabin'] = dataset['Cabin'].map(cabin_mapping)\n",
    "    \n",
    "train[\"Cabin\"].fillna(train.groupby(\"Pclass\")[\"Cabin\"].transform(\"median\"), inplace=True)\n",
    "test[\"Cabin\"].fillna(test.groupby(\"Pclass\")[\"Cabin\"].transform(\"median\"), inplace=True)"
   ]
  },
  {
   "cell_type": "code",
   "execution_count": 13,
   "metadata": {},
   "outputs": [],
   "source": [
    "# Family Size\n",
    "train[\"FamilySize\"] = train[\"SibSp\"] + train[\"Parch\"] + 1\n",
    "test[\"FamilySize\"] = test[\"SibSp\"] + test[\"Parch\"] + 1\n",
    "\n",
    "family_mapping = {1: 0, 2: 0.4, 3: 0.8, 4: 1.2, 5: 1.6, 6: 2.0, 7: 2.4, 8: 2.8, 9: 3.2, 10: 3.6, 11: 4}\n",
    "for dataset in train_test_data:\n",
    "    dataset[\"FamilySize\"] = dataset[\"FamilySize\"].map(family_mapping)\n",
    "    \n",
    "features_drop = [\"Ticket\", \"SibSp\", \"Parch\"]\n",
    "train = train.drop(features_drop, axis = 1)\n",
    "test = test.drop(features_drop, axis = 1)\n",
    "train = train.drop([\"PassengerId\"], axis = 1)"
   ]
  },
  {
   "cell_type": "code",
   "execution_count": 14,
   "metadata": {},
   "outputs": [],
   "source": [
    "train_data = train.drop('Survived', axis = 1)\n",
    "target = train['Survived']\n",
    "\n",
    "test_data = test.drop(\"PassengerId\", axis=1).copy()\n",
    "\n",
    "y_train = target\n",
    "\n",
    "train = train.drop(['Survived'], axis = 1)\n",
    "\n",
    "X_train = train_data.iloc[:, :].values\n",
    "X_test = test_data.iloc[:, :].values"
   ]
  },
  {
   "cell_type": "code",
   "execution_count": 50,
   "metadata": {},
   "outputs": [
    {
     "name": "stdout",
     "output_type": "stream",
     "text": [
      "(668, 8)\n",
      "(668,)\n",
      "(223, 8)\n",
      "(223,)\n"
     ]
    }
   ],
   "source": [
    "from sklearn.model_selection import train_test_split\n",
    "x_train, x_test, y_train, y_test = train_test_split(X_train, y_train, random_state=42)\n",
    "print(x_train.shape)\n",
    "print(y_train.shape)\n",
    "print(x_test.shape)\n",
    "print(y_test.shape)"
   ]
  },
  {
   "cell_type": "code",
   "execution_count": 51,
   "metadata": {},
   "outputs": [
    {
     "data": {
      "text/plain": [
       "RandomForestClassifier(bootstrap=True, class_weight=None, criterion='gini',\n",
       "                       max_depth=None, max_features='auto', max_leaf_nodes=None,\n",
       "                       min_impurity_decrease=0.0, min_impurity_split=None,\n",
       "                       min_samples_leaf=1, min_samples_split=2,\n",
       "                       min_weight_fraction_leaf=0.0, n_estimators=10,\n",
       "                       n_jobs=None, oob_score=False, random_state=None,\n",
       "                       verbose=0, warm_start=False)"
      ]
     },
     "execution_count": 51,
     "metadata": {},
     "output_type": "execute_result"
    }
   ],
   "source": [
    "from sklearn.ensemble import RandomForestClassifier\n",
    "\n",
    "rfc = RandomForestClassifier(n_estimators=10)\n",
    "rfc"
   ]
  },
  {
   "cell_type": "code",
   "execution_count": 53,
   "metadata": {},
   "outputs": [
    {
     "name": "stdout",
     "output_type": "stream",
     "text": [
      "Fitting 5 folds for each of 70 candidates, totalling 350 fits\n",
      "[CV] max_depth=3, n_estimators=10 ....................................\n",
      "[CV] ........ max_depth=3, n_estimators=10, score=0.821, total=   0.0s\n",
      "[CV] max_depth=3, n_estimators=10 ....................................\n",
      "[CV] ........ max_depth=3, n_estimators=10, score=0.851, total=   0.0s\n",
      "[CV] max_depth=3, n_estimators=10 ....................................\n",
      "[CV] ........ max_depth=3, n_estimators=10, score=0.776, total=   0.0s\n",
      "[CV] max_depth=3, n_estimators=10 ....................................\n",
      "[CV] ........ max_depth=3, n_estimators=10, score=0.789, total=   0.0s\n",
      "[CV] max_depth=3, n_estimators=10 ....................................\n",
      "[CV] ........ max_depth=3, n_estimators=10, score=0.842, total=   0.0s\n",
      "[CV] max_depth=3, n_estimators=20 ....................................\n",
      "[CV] ........ max_depth=3, n_estimators=20, score=0.799, total=   0.0s"
     ]
    },
    {
     "name": "stderr",
     "output_type": "stream",
     "text": [
      "[Parallel(n_jobs=1)]: Using backend SequentialBackend with 1 concurrent workers.\n",
      "[Parallel(n_jobs=1)]: Done   1 out of   1 | elapsed:    0.0s remaining:    0.0s\n",
      "[Parallel(n_jobs=1)]: Done   2 out of   2 | elapsed:    0.0s remaining:    0.0s\n"
     ]
    },
    {
     "name": "stdout",
     "output_type": "stream",
     "text": [
      "\n",
      "[CV] max_depth=3, n_estimators=20 ....................................\n",
      "[CV] ........ max_depth=3, n_estimators=20, score=0.851, total=   0.0s\n",
      "[CV] max_depth=3, n_estimators=20 ....................................\n",
      "[CV] ........ max_depth=3, n_estimators=20, score=0.806, total=   0.0s\n",
      "[CV] max_depth=3, n_estimators=20 ....................................\n",
      "[CV] ........ max_depth=3, n_estimators=20, score=0.805, total=   0.0s\n",
      "[CV] max_depth=3, n_estimators=20 ....................................\n",
      "[CV] ........ max_depth=3, n_estimators=20, score=0.842, total=   0.0s\n",
      "[CV] max_depth=3, n_estimators=30 ....................................\n",
      "[CV] ........ max_depth=3, n_estimators=30, score=0.806, total=   0.1s\n",
      "[CV] max_depth=3, n_estimators=30 ....................................\n",
      "[CV] ........ max_depth=3, n_estimators=30, score=0.858, total=   0.1s\n",
      "[CV] max_depth=3, n_estimators=30 ....................................\n",
      "[CV] ........ max_depth=3, n_estimators=30, score=0.791, total=   0.1s\n",
      "[CV] max_depth=3, n_estimators=30 ....................................\n",
      "[CV] ........ max_depth=3, n_estimators=30, score=0.797, total=   0.1s\n",
      "[CV] max_depth=3, n_estimators=30 ....................................\n",
      "[CV] ........ max_depth=3, n_estimators=30, score=0.842, total=   0.1s\n",
      "[CV] max_depth=3, n_estimators=40 ....................................\n",
      "[CV] ........ max_depth=3, n_estimators=40, score=0.821, total=   0.1s\n",
      "[CV] max_depth=3, n_estimators=40 ....................................\n",
      "[CV] ........ max_depth=3, n_estimators=40, score=0.858, total=   0.1s\n",
      "[CV] max_depth=3, n_estimators=40 ....................................\n",
      "[CV] ........ max_depth=3, n_estimators=40, score=0.784, total=   0.1s\n",
      "[CV] max_depth=3, n_estimators=40 ....................................\n",
      "[CV] ........ max_depth=3, n_estimators=40, score=0.805, total=   0.1s\n",
      "[CV] max_depth=3, n_estimators=40 ....................................\n",
      "[CV] ........ max_depth=3, n_estimators=40, score=0.842, total=   0.1s\n",
      "[CV] max_depth=3, n_estimators=50 ....................................\n",
      "[CV] ........ max_depth=3, n_estimators=50, score=0.813, total=   0.1s\n",
      "[CV] max_depth=3, n_estimators=50 ....................................\n",
      "[CV] ........ max_depth=3, n_estimators=50, score=0.858, total=   0.1s\n",
      "[CV] max_depth=3, n_estimators=50 ....................................\n",
      "[CV] ........ max_depth=3, n_estimators=50, score=0.791, total=   0.1s\n",
      "[CV] max_depth=3, n_estimators=50 ....................................\n",
      "[CV] ........ max_depth=3, n_estimators=50, score=0.774, total=   0.1s\n",
      "[CV] max_depth=3, n_estimators=50 ....................................\n",
      "[CV] ........ max_depth=3, n_estimators=50, score=0.857, total=   0.1s\n",
      "[CV] max_depth=3, n_estimators=60 ....................................\n",
      "[CV] ........ max_depth=3, n_estimators=60, score=0.828, total=   0.2s\n",
      "[CV] max_depth=3, n_estimators=60 ....................................\n",
      "[CV] ........ max_depth=3, n_estimators=60, score=0.858, total=   0.2s\n",
      "[CV] max_depth=3, n_estimators=60 ....................................\n",
      "[CV] ........ max_depth=3, n_estimators=60, score=0.776, total=   0.2s\n",
      "[CV] max_depth=3, n_estimators=60 ....................................\n",
      "[CV] ........ max_depth=3, n_estimators=60, score=0.805, total=   0.1s\n",
      "[CV] max_depth=3, n_estimators=60 ....................................\n",
      "[CV] ........ max_depth=3, n_estimators=60, score=0.842, total=   0.1s\n",
      "[CV] max_depth=3, n_estimators=70 ....................................\n",
      "[CV] ........ max_depth=3, n_estimators=70, score=0.828, total=   0.2s\n",
      "[CV] max_depth=3, n_estimators=70 ....................................\n",
      "[CV] ........ max_depth=3, n_estimators=70, score=0.858, total=   0.2s\n",
      "[CV] max_depth=3, n_estimators=70 ....................................\n",
      "[CV] ........ max_depth=3, n_estimators=70, score=0.776, total=   0.1s\n",
      "[CV] max_depth=3, n_estimators=70 ....................................\n",
      "[CV] ........ max_depth=3, n_estimators=70, score=0.812, total=   0.1s\n",
      "[CV] max_depth=3, n_estimators=70 ....................................\n",
      "[CV] ........ max_depth=3, n_estimators=70, score=0.857, total=   0.1s\n",
      "[CV] max_depth=3, n_estimators=80 ....................................\n",
      "[CV] ........ max_depth=3, n_estimators=80, score=0.828, total=   0.2s\n",
      "[CV] max_depth=3, n_estimators=80 ....................................\n",
      "[CV] ........ max_depth=3, n_estimators=80, score=0.858, total=   0.2s\n",
      "[CV] max_depth=3, n_estimators=80 ....................................\n",
      "[CV] ........ max_depth=3, n_estimators=80, score=0.784, total=   0.2s\n",
      "[CV] max_depth=3, n_estimators=80 ....................................\n",
      "[CV] ........ max_depth=3, n_estimators=80, score=0.774, total=   0.2s\n",
      "[CV] max_depth=3, n_estimators=80 ....................................\n",
      "[CV] ........ max_depth=3, n_estimators=80, score=0.842, total=   0.2s\n",
      "[CV] max_depth=3, n_estimators=90 ....................................\n",
      "[CV] ........ max_depth=3, n_estimators=90, score=0.813, total=   0.1s\n",
      "[CV] max_depth=3, n_estimators=90 ....................................\n",
      "[CV] ........ max_depth=3, n_estimators=90, score=0.858, total=   0.1s\n",
      "[CV] max_depth=3, n_estimators=90 ....................................\n",
      "[CV] ........ max_depth=3, n_estimators=90, score=0.784, total=   0.3s\n",
      "[CV] max_depth=3, n_estimators=90 ....................................\n",
      "[CV] ........ max_depth=3, n_estimators=90, score=0.774, total=   0.2s\n",
      "[CV] max_depth=3, n_estimators=90 ....................................\n",
      "[CV] ........ max_depth=3, n_estimators=90, score=0.850, total=   0.1s\n",
      "[CV] max_depth=3, n_estimators=100 ...................................\n",
      "[CV] ....... max_depth=3, n_estimators=100, score=0.821, total=   0.2s\n",
      "[CV] max_depth=3, n_estimators=100 ...................................\n",
      "[CV] ....... max_depth=3, n_estimators=100, score=0.866, total=   0.1s\n",
      "[CV] max_depth=3, n_estimators=100 ...................................\n",
      "[CV] ....... max_depth=3, n_estimators=100, score=0.776, total=   0.2s\n",
      "[CV] max_depth=3, n_estimators=100 ...................................\n",
      "[CV] ....... max_depth=3, n_estimators=100, score=0.782, total=   0.3s\n",
      "[CV] max_depth=3, n_estimators=100 ...................................\n",
      "[CV] ....... max_depth=3, n_estimators=100, score=0.857, total=   0.2s\n",
      "[CV] max_depth=4, n_estimators=10 ....................................\n",
      "[CV] ........ max_depth=4, n_estimators=10, score=0.821, total=   0.0s\n",
      "[CV] max_depth=4, n_estimators=10 ....................................\n",
      "[CV] ........ max_depth=4, n_estimators=10, score=0.851, total=   0.0s\n",
      "[CV] max_depth=4, n_estimators=10 ....................................\n",
      "[CV] ........ max_depth=4, n_estimators=10, score=0.791, total=   0.0s\n",
      "[CV] max_depth=4, n_estimators=10 ....................................\n",
      "[CV] ........ max_depth=4, n_estimators=10, score=0.827, total=   0.0s\n",
      "[CV] max_depth=4, n_estimators=10 ....................................\n",
      "[CV] ........ max_depth=4, n_estimators=10, score=0.857, total=   0.0s\n",
      "[CV] max_depth=4, n_estimators=20 ....................................\n",
      "[CV] ........ max_depth=4, n_estimators=20, score=0.821, total=   0.0s\n",
      "[CV] max_depth=4, n_estimators=20 ....................................\n",
      "[CV] ........ max_depth=4, n_estimators=20, score=0.866, total=   0.0s\n",
      "[CV] max_depth=4, n_estimators=20 ....................................\n",
      "[CV] ........ max_depth=4, n_estimators=20, score=0.791, total=   0.0s\n",
      "[CV] max_depth=4, n_estimators=20 ....................................\n",
      "[CV] ........ max_depth=4, n_estimators=20, score=0.812, total=   0.0s\n",
      "[CV] max_depth=4, n_estimators=20 ....................................\n",
      "[CV] ........ max_depth=4, n_estimators=20, score=0.857, total=   0.0s\n",
      "[CV] max_depth=4, n_estimators=30 ....................................\n",
      "[CV] ........ max_depth=4, n_estimators=30, score=0.828, total=   0.0s\n",
      "[CV] max_depth=4, n_estimators=30 ....................................\n",
      "[CV] ........ max_depth=4, n_estimators=30, score=0.866, total=   0.1s\n",
      "[CV] max_depth=4, n_estimators=30 ....................................\n",
      "[CV] ........ max_depth=4, n_estimators=30, score=0.791, total=   0.1s\n",
      "[CV] max_depth=4, n_estimators=30 ....................................\n",
      "[CV] ........ max_depth=4, n_estimators=30, score=0.820, total=   0.1s\n",
      "[CV] max_depth=4, n_estimators=30 ....................................\n"
     ]
    },
    {
     "name": "stdout",
     "output_type": "stream",
     "text": [
      "[CV] ........ max_depth=4, n_estimators=30, score=0.872, total=   0.1s\n",
      "[CV] max_depth=4, n_estimators=40 ....................................\n",
      "[CV] ........ max_depth=4, n_estimators=40, score=0.813, total=   0.1s\n",
      "[CV] max_depth=4, n_estimators=40 ....................................\n",
      "[CV] ........ max_depth=4, n_estimators=40, score=0.873, total=   0.1s\n",
      "[CV] max_depth=4, n_estimators=40 ....................................\n",
      "[CV] ........ max_depth=4, n_estimators=40, score=0.791, total=   0.1s\n",
      "[CV] max_depth=4, n_estimators=40 ....................................\n",
      "[CV] ........ max_depth=4, n_estimators=40, score=0.820, total=   0.1s\n",
      "[CV] max_depth=4, n_estimators=40 ....................................\n",
      "[CV] ........ max_depth=4, n_estimators=40, score=0.857, total=   0.1s\n",
      "[CV] max_depth=4, n_estimators=50 ....................................\n",
      "[CV] ........ max_depth=4, n_estimators=50, score=0.828, total=   0.1s\n",
      "[CV] max_depth=4, n_estimators=50 ....................................\n",
      "[CV] ........ max_depth=4, n_estimators=50, score=0.873, total=   0.1s\n",
      "[CV] max_depth=4, n_estimators=50 ....................................\n",
      "[CV] ........ max_depth=4, n_estimators=50, score=0.791, total=   0.1s\n",
      "[CV] max_depth=4, n_estimators=50 ....................................\n",
      "[CV] ........ max_depth=4, n_estimators=50, score=0.812, total=   0.1s\n",
      "[CV] max_depth=4, n_estimators=50 ....................................\n",
      "[CV] ........ max_depth=4, n_estimators=50, score=0.857, total=   0.1s\n",
      "[CV] max_depth=4, n_estimators=60 ....................................\n",
      "[CV] ........ max_depth=4, n_estimators=60, score=0.828, total=   0.2s\n",
      "[CV] max_depth=4, n_estimators=60 ....................................\n",
      "[CV] ........ max_depth=4, n_estimators=60, score=0.866, total=   0.2s\n",
      "[CV] max_depth=4, n_estimators=60 ....................................\n",
      "[CV] ........ max_depth=4, n_estimators=60, score=0.791, total=   0.2s\n",
      "[CV] max_depth=4, n_estimators=60 ....................................\n",
      "[CV] ........ max_depth=4, n_estimators=60, score=0.835, total=   0.2s\n",
      "[CV] max_depth=4, n_estimators=60 ....................................\n",
      "[CV] ........ max_depth=4, n_estimators=60, score=0.857, total=   0.1s\n",
      "[CV] max_depth=4, n_estimators=70 ....................................\n",
      "[CV] ........ max_depth=4, n_estimators=70, score=0.821, total=   0.1s\n",
      "[CV] max_depth=4, n_estimators=70 ....................................\n",
      "[CV] ........ max_depth=4, n_estimators=70, score=0.866, total=   0.1s\n",
      "[CV] max_depth=4, n_estimators=70 ....................................\n",
      "[CV] ........ max_depth=4, n_estimators=70, score=0.791, total=   0.2s\n",
      "[CV] max_depth=4, n_estimators=70 ....................................\n",
      "[CV] ........ max_depth=4, n_estimators=70, score=0.797, total=   0.2s\n",
      "[CV] max_depth=4, n_estimators=70 ....................................\n",
      "[CV] ........ max_depth=4, n_estimators=70, score=0.857, total=   0.1s\n",
      "[CV] max_depth=4, n_estimators=80 ....................................\n",
      "[CV] ........ max_depth=4, n_estimators=80, score=0.813, total=   0.1s\n",
      "[CV] max_depth=4, n_estimators=80 ....................................\n",
      "[CV] ........ max_depth=4, n_estimators=80, score=0.866, total=   0.1s\n",
      "[CV] max_depth=4, n_estimators=80 ....................................\n",
      "[CV] ........ max_depth=4, n_estimators=80, score=0.791, total=   0.1s\n",
      "[CV] max_depth=4, n_estimators=80 ....................................\n",
      "[CV] ........ max_depth=4, n_estimators=80, score=0.827, total=   0.1s\n",
      "[CV] max_depth=4, n_estimators=80 ....................................\n",
      "[CV] ........ max_depth=4, n_estimators=80, score=0.872, total=   0.2s\n",
      "[CV] max_depth=4, n_estimators=90 ....................................\n",
      "[CV] ........ max_depth=4, n_estimators=90, score=0.821, total=   0.2s\n",
      "[CV] max_depth=4, n_estimators=90 ....................................\n",
      "[CV] ........ max_depth=4, n_estimators=90, score=0.881, total=   0.3s\n",
      "[CV] max_depth=4, n_estimators=90 ....................................\n",
      "[CV] ........ max_depth=4, n_estimators=90, score=0.791, total=   0.2s\n",
      "[CV] max_depth=4, n_estimators=90 ....................................\n",
      "[CV] ........ max_depth=4, n_estimators=90, score=0.797, total=   0.2s\n",
      "[CV] max_depth=4, n_estimators=90 ....................................\n",
      "[CV] ........ max_depth=4, n_estimators=90, score=0.850, total=   0.3s\n",
      "[CV] max_depth=4, n_estimators=100 ...................................\n",
      "[CV] ....... max_depth=4, n_estimators=100, score=0.821, total=   0.3s\n",
      "[CV] max_depth=4, n_estimators=100 ...................................\n",
      "[CV] ....... max_depth=4, n_estimators=100, score=0.858, total=   0.2s\n",
      "[CV] max_depth=4, n_estimators=100 ...................................\n",
      "[CV] ....... max_depth=4, n_estimators=100, score=0.791, total=   0.2s\n",
      "[CV] max_depth=4, n_estimators=100 ...................................\n",
      "[CV] ....... max_depth=4, n_estimators=100, score=0.820, total=   0.3s\n",
      "[CV] max_depth=4, n_estimators=100 ...................................\n",
      "[CV] ....... max_depth=4, n_estimators=100, score=0.857, total=   0.2s\n",
      "[CV] max_depth=5, n_estimators=10 ....................................\n",
      "[CV] ........ max_depth=5, n_estimators=10, score=0.821, total=   0.0s\n",
      "[CV] max_depth=5, n_estimators=10 ....................................\n",
      "[CV] ........ max_depth=5, n_estimators=10, score=0.873, total=   0.0s\n",
      "[CV] max_depth=5, n_estimators=10 ....................................\n",
      "[CV] ........ max_depth=5, n_estimators=10, score=0.799, total=   0.0s\n",
      "[CV] max_depth=5, n_estimators=10 ....................................\n",
      "[CV] ........ max_depth=5, n_estimators=10, score=0.820, total=   0.0s\n",
      "[CV] max_depth=5, n_estimators=10 ....................................\n",
      "[CV] ........ max_depth=5, n_estimators=10, score=0.827, total=   0.0s\n",
      "[CV] max_depth=5, n_estimators=20 ....................................\n",
      "[CV] ........ max_depth=5, n_estimators=20, score=0.791, total=   0.0s\n",
      "[CV] max_depth=5, n_estimators=20 ....................................\n",
      "[CV] ........ max_depth=5, n_estimators=20, score=0.873, total=   0.0s\n",
      "[CV] max_depth=5, n_estimators=20 ....................................\n",
      "[CV] ........ max_depth=5, n_estimators=20, score=0.784, total=   0.0s\n",
      "[CV] max_depth=5, n_estimators=20 ....................................\n",
      "[CV] ........ max_depth=5, n_estimators=20, score=0.789, total=   0.0s\n",
      "[CV] max_depth=5, n_estimators=20 ....................................\n",
      "[CV] ........ max_depth=5, n_estimators=20, score=0.857, total=   0.0s\n",
      "[CV] max_depth=5, n_estimators=30 ....................................\n",
      "[CV] ........ max_depth=5, n_estimators=30, score=0.806, total=   0.1s\n",
      "[CV] max_depth=5, n_estimators=30 ....................................\n",
      "[CV] ........ max_depth=5, n_estimators=30, score=0.873, total=   0.0s\n",
      "[CV] max_depth=5, n_estimators=30 ....................................\n",
      "[CV] ........ max_depth=5, n_estimators=30, score=0.799, total=   0.1s\n",
      "[CV] max_depth=5, n_estimators=30 ....................................\n",
      "[CV] ........ max_depth=5, n_estimators=30, score=0.820, total=   0.0s\n",
      "[CV] max_depth=5, n_estimators=30 ....................................\n",
      "[CV] ........ max_depth=5, n_estimators=30, score=0.850, total=   0.1s\n",
      "[CV] max_depth=5, n_estimators=40 ....................................\n",
      "[CV] ........ max_depth=5, n_estimators=40, score=0.821, total=   0.1s\n",
      "[CV] max_depth=5, n_estimators=40 ....................................\n",
      "[CV] ........ max_depth=5, n_estimators=40, score=0.873, total=   0.1s\n",
      "[CV] max_depth=5, n_estimators=40 ....................................\n",
      "[CV] ........ max_depth=5, n_estimators=40, score=0.791, total=   0.1s\n",
      "[CV] max_depth=5, n_estimators=40 ....................................\n",
      "[CV] ........ max_depth=5, n_estimators=40, score=0.812, total=   0.1s\n",
      "[CV] max_depth=5, n_estimators=40 ....................................\n",
      "[CV] ........ max_depth=5, n_estimators=40, score=0.865, total=   0.1s\n",
      "[CV] max_depth=5, n_estimators=50 ....................................\n",
      "[CV] ........ max_depth=5, n_estimators=50, score=0.806, total=   0.1s\n",
      "[CV] max_depth=5, n_estimators=50 ....................................\n",
      "[CV] ........ max_depth=5, n_estimators=50, score=0.858, total=   0.1s\n",
      "[CV] max_depth=5, n_estimators=50 ....................................\n",
      "[CV] ........ max_depth=5, n_estimators=50, score=0.799, total=   0.1s\n",
      "[CV] max_depth=5, n_estimators=50 ....................................\n",
      "[CV] ........ max_depth=5, n_estimators=50, score=0.812, total=   0.1s\n",
      "[CV] max_depth=5, n_estimators=50 ....................................\n"
     ]
    },
    {
     "name": "stdout",
     "output_type": "stream",
     "text": [
      "[CV] ........ max_depth=5, n_estimators=50, score=0.880, total=   0.1s\n",
      "[CV] max_depth=5, n_estimators=60 ....................................\n",
      "[CV] ........ max_depth=5, n_estimators=60, score=0.821, total=   0.2s\n",
      "[CV] max_depth=5, n_estimators=60 ....................................\n",
      "[CV] ........ max_depth=5, n_estimators=60, score=0.866, total=   0.1s\n",
      "[CV] max_depth=5, n_estimators=60 ....................................\n",
      "[CV] ........ max_depth=5, n_estimators=60, score=0.791, total=   0.1s\n",
      "[CV] max_depth=5, n_estimators=60 ....................................\n",
      "[CV] ........ max_depth=5, n_estimators=60, score=0.835, total=   0.1s\n",
      "[CV] max_depth=5, n_estimators=60 ....................................\n",
      "[CV] ........ max_depth=5, n_estimators=60, score=0.872, total=   0.1s\n",
      "[CV] max_depth=5, n_estimators=70 ....................................\n",
      "[CV] ........ max_depth=5, n_estimators=70, score=0.813, total=   0.1s\n",
      "[CV] max_depth=5, n_estimators=70 ....................................\n",
      "[CV] ........ max_depth=5, n_estimators=70, score=0.873, total=   0.1s\n",
      "[CV] max_depth=5, n_estimators=70 ....................................\n",
      "[CV] ........ max_depth=5, n_estimators=70, score=0.791, total=   0.2s\n",
      "[CV] max_depth=5, n_estimators=70 ....................................\n",
      "[CV] ........ max_depth=5, n_estimators=70, score=0.820, total=   0.2s\n",
      "[CV] max_depth=5, n_estimators=70 ....................................\n",
      "[CV] ........ max_depth=5, n_estimators=70, score=0.872, total=   0.1s\n",
      "[CV] max_depth=5, n_estimators=80 ....................................\n",
      "[CV] ........ max_depth=5, n_estimators=80, score=0.806, total=   0.1s\n",
      "[CV] max_depth=5, n_estimators=80 ....................................\n",
      "[CV] ........ max_depth=5, n_estimators=80, score=0.873, total=   0.1s\n",
      "[CV] max_depth=5, n_estimators=80 ....................................\n",
      "[CV] ........ max_depth=5, n_estimators=80, score=0.791, total=   0.1s\n",
      "[CV] max_depth=5, n_estimators=80 ....................................\n",
      "[CV] ........ max_depth=5, n_estimators=80, score=0.812, total=   0.1s\n",
      "[CV] max_depth=5, n_estimators=80 ....................................\n",
      "[CV] ........ max_depth=5, n_estimators=80, score=0.872, total=   0.2s\n",
      "[CV] max_depth=5, n_estimators=90 ....................................\n",
      "[CV] ........ max_depth=5, n_estimators=90, score=0.813, total=   0.2s\n",
      "[CV] max_depth=5, n_estimators=90 ....................................\n",
      "[CV] ........ max_depth=5, n_estimators=90, score=0.873, total=   0.1s\n",
      "[CV] max_depth=5, n_estimators=90 ....................................\n",
      "[CV] ........ max_depth=5, n_estimators=90, score=0.791, total=   0.2s\n",
      "[CV] max_depth=5, n_estimators=90 ....................................\n",
      "[CV] ........ max_depth=5, n_estimators=90, score=0.835, total=   0.1s\n",
      "[CV] max_depth=5, n_estimators=90 ....................................\n",
      "[CV] ........ max_depth=5, n_estimators=90, score=0.872, total=   0.1s\n",
      "[CV] max_depth=5, n_estimators=100 ...................................\n",
      "[CV] ....... max_depth=5, n_estimators=100, score=0.813, total=   0.2s\n",
      "[CV] max_depth=5, n_estimators=100 ...................................\n",
      "[CV] ....... max_depth=5, n_estimators=100, score=0.873, total=   0.3s\n",
      "[CV] max_depth=5, n_estimators=100 ...................................\n",
      "[CV] ....... max_depth=5, n_estimators=100, score=0.791, total=   0.3s\n",
      "[CV] max_depth=5, n_estimators=100 ...................................\n",
      "[CV] ....... max_depth=5, n_estimators=100, score=0.797, total=   0.2s\n",
      "[CV] max_depth=5, n_estimators=100 ...................................\n",
      "[CV] ....... max_depth=5, n_estimators=100, score=0.865, total=   0.2s\n",
      "[CV] max_depth=6, n_estimators=10 ....................................\n",
      "[CV] ........ max_depth=6, n_estimators=10, score=0.799, total=   0.0s\n",
      "[CV] max_depth=6, n_estimators=10 ....................................\n",
      "[CV] ........ max_depth=6, n_estimators=10, score=0.866, total=   0.0s\n",
      "[CV] max_depth=6, n_estimators=10 ....................................\n",
      "[CV] ........ max_depth=6, n_estimators=10, score=0.784, total=   0.0s\n",
      "[CV] max_depth=6, n_estimators=10 ....................................\n",
      "[CV] ........ max_depth=6, n_estimators=10, score=0.797, total=   0.0s\n",
      "[CV] max_depth=6, n_estimators=10 ....................................\n",
      "[CV] ........ max_depth=6, n_estimators=10, score=0.872, total=   0.0s\n",
      "[CV] max_depth=6, n_estimators=20 ....................................\n",
      "[CV] ........ max_depth=6, n_estimators=20, score=0.799, total=   0.0s\n",
      "[CV] max_depth=6, n_estimators=20 ....................................\n",
      "[CV] ........ max_depth=6, n_estimators=20, score=0.858, total=   0.0s\n",
      "[CV] max_depth=6, n_estimators=20 ....................................\n",
      "[CV] ........ max_depth=6, n_estimators=20, score=0.799, total=   0.0s\n",
      "[CV] max_depth=6, n_estimators=20 ....................................\n",
      "[CV] ........ max_depth=6, n_estimators=20, score=0.797, total=   0.0s\n",
      "[CV] max_depth=6, n_estimators=20 ....................................\n",
      "[CV] ........ max_depth=6, n_estimators=20, score=0.865, total=   0.0s\n",
      "[CV] max_depth=6, n_estimators=30 ....................................\n",
      "[CV] ........ max_depth=6, n_estimators=30, score=0.806, total=   0.0s\n",
      "[CV] max_depth=6, n_estimators=30 ....................................\n",
      "[CV] ........ max_depth=6, n_estimators=30, score=0.873, total=   0.1s\n",
      "[CV] max_depth=6, n_estimators=30 ....................................\n",
      "[CV] ........ max_depth=6, n_estimators=30, score=0.791, total=   0.0s\n",
      "[CV] max_depth=6, n_estimators=30 ....................................\n",
      "[CV] ........ max_depth=6, n_estimators=30, score=0.805, total=   0.0s\n",
      "[CV] max_depth=6, n_estimators=30 ....................................\n",
      "[CV] ........ max_depth=6, n_estimators=30, score=0.865, total=   0.0s\n",
      "[CV] max_depth=6, n_estimators=40 ....................................\n",
      "[CV] ........ max_depth=6, n_estimators=40, score=0.806, total=   0.1s\n",
      "[CV] max_depth=6, n_estimators=40 ....................................\n",
      "[CV] ........ max_depth=6, n_estimators=40, score=0.866, total=   0.1s\n",
      "[CV] max_depth=6, n_estimators=40 ....................................\n",
      "[CV] ........ max_depth=6, n_estimators=40, score=0.791, total=   0.1s\n",
      "[CV] max_depth=6, n_estimators=40 ....................................\n",
      "[CV] ........ max_depth=6, n_estimators=40, score=0.835, total=   0.1s\n",
      "[CV] max_depth=6, n_estimators=40 ....................................\n",
      "[CV] ........ max_depth=6, n_estimators=40, score=0.865, total=   0.1s\n",
      "[CV] max_depth=6, n_estimators=50 ....................................\n",
      "[CV] ........ max_depth=6, n_estimators=50, score=0.799, total=   0.1s\n",
      "[CV] max_depth=6, n_estimators=50 ....................................\n",
      "[CV] ........ max_depth=6, n_estimators=50, score=0.858, total=   0.2s\n",
      "[CV] max_depth=6, n_estimators=50 ....................................\n",
      "[CV] ........ max_depth=6, n_estimators=50, score=0.784, total=   0.1s\n",
      "[CV] max_depth=6, n_estimators=50 ....................................\n",
      "[CV] ........ max_depth=6, n_estimators=50, score=0.789, total=   0.1s\n",
      "[CV] max_depth=6, n_estimators=50 ....................................\n",
      "[CV] ........ max_depth=6, n_estimators=50, score=0.880, total=   0.1s\n",
      "[CV] max_depth=6, n_estimators=60 ....................................\n",
      "[CV] ........ max_depth=6, n_estimators=60, score=0.791, total=   0.1s\n",
      "[CV] max_depth=6, n_estimators=60 ....................................\n",
      "[CV] ........ max_depth=6, n_estimators=60, score=0.866, total=   0.1s\n",
      "[CV] max_depth=6, n_estimators=60 ....................................\n",
      "[CV] ........ max_depth=6, n_estimators=60, score=0.784, total=   0.2s\n",
      "[CV] max_depth=6, n_estimators=60 ....................................\n",
      "[CV] ........ max_depth=6, n_estimators=60, score=0.827, total=   0.1s\n",
      "[CV] max_depth=6, n_estimators=60 ....................................\n",
      "[CV] ........ max_depth=6, n_estimators=60, score=0.880, total=   0.1s\n",
      "[CV] max_depth=6, n_estimators=70 ....................................\n",
      "[CV] ........ max_depth=6, n_estimators=70, score=0.799, total=   0.1s\n",
      "[CV] max_depth=6, n_estimators=70 ....................................\n",
      "[CV] ........ max_depth=6, n_estimators=70, score=0.858, total=   0.1s\n",
      "[CV] max_depth=6, n_estimators=70 ....................................\n",
      "[CV] ........ max_depth=6, n_estimators=70, score=0.799, total=   0.1s\n",
      "[CV] max_depth=6, n_estimators=70 ....................................\n"
     ]
    },
    {
     "name": "stdout",
     "output_type": "stream",
     "text": [
      "[CV] ........ max_depth=6, n_estimators=70, score=0.827, total=   0.1s\n",
      "[CV] max_depth=6, n_estimators=70 ....................................\n",
      "[CV] ........ max_depth=6, n_estimators=70, score=0.857, total=   0.1s\n",
      "[CV] max_depth=6, n_estimators=80 ....................................\n",
      "[CV] ........ max_depth=6, n_estimators=80, score=0.791, total=   0.2s\n",
      "[CV] max_depth=6, n_estimators=80 ....................................\n",
      "[CV] ........ max_depth=6, n_estimators=80, score=0.866, total=   0.2s\n",
      "[CV] max_depth=6, n_estimators=80 ....................................\n",
      "[CV] ........ max_depth=6, n_estimators=80, score=0.791, total=   0.2s\n",
      "[CV] max_depth=6, n_estimators=80 ....................................\n",
      "[CV] ........ max_depth=6, n_estimators=80, score=0.812, total=   0.2s\n",
      "[CV] max_depth=6, n_estimators=80 ....................................\n",
      "[CV] ........ max_depth=6, n_estimators=80, score=0.865, total=   0.2s\n",
      "[CV] max_depth=6, n_estimators=90 ....................................\n",
      "[CV] ........ max_depth=6, n_estimators=90, score=0.791, total=   0.2s\n",
      "[CV] max_depth=6, n_estimators=90 ....................................\n",
      "[CV] ........ max_depth=6, n_estimators=90, score=0.866, total=   0.2s\n",
      "[CV] max_depth=6, n_estimators=90 ....................................\n",
      "[CV] ........ max_depth=6, n_estimators=90, score=0.784, total=   0.2s\n",
      "[CV] max_depth=6, n_estimators=90 ....................................\n",
      "[CV] ........ max_depth=6, n_estimators=90, score=0.827, total=   0.1s\n",
      "[CV] max_depth=6, n_estimators=90 ....................................\n",
      "[CV] ........ max_depth=6, n_estimators=90, score=0.872, total=   0.2s\n",
      "[CV] max_depth=6, n_estimators=100 ...................................\n",
      "[CV] ....... max_depth=6, n_estimators=100, score=0.806, total=   0.2s\n",
      "[CV] max_depth=6, n_estimators=100 ...................................\n",
      "[CV] ....... max_depth=6, n_estimators=100, score=0.866, total=   0.3s\n",
      "[CV] max_depth=6, n_estimators=100 ...................................\n",
      "[CV] ....... max_depth=6, n_estimators=100, score=0.791, total=   0.2s\n",
      "[CV] max_depth=6, n_estimators=100 ...................................\n",
      "[CV] ....... max_depth=6, n_estimators=100, score=0.820, total=   0.1s\n",
      "[CV] max_depth=6, n_estimators=100 ...................................\n",
      "[CV] ....... max_depth=6, n_estimators=100, score=0.865, total=   0.3s\n",
      "[CV] max_depth=7, n_estimators=10 ....................................\n",
      "[CV] ........ max_depth=7, n_estimators=10, score=0.784, total=   0.0s\n",
      "[CV] max_depth=7, n_estimators=10 ....................................\n",
      "[CV] ........ max_depth=7, n_estimators=10, score=0.843, total=   0.0s\n",
      "[CV] max_depth=7, n_estimators=10 ....................................\n",
      "[CV] ........ max_depth=7, n_estimators=10, score=0.776, total=   0.0s\n",
      "[CV] max_depth=7, n_estimators=10 ....................................\n",
      "[CV] ........ max_depth=7, n_estimators=10, score=0.820, total=   0.0s\n",
      "[CV] max_depth=7, n_estimators=10 ....................................\n",
      "[CV] ........ max_depth=7, n_estimators=10, score=0.880, total=   0.0s\n",
      "[CV] max_depth=7, n_estimators=20 ....................................\n",
      "[CV] ........ max_depth=7, n_estimators=20, score=0.799, total=   0.1s\n",
      "[CV] max_depth=7, n_estimators=20 ....................................\n",
      "[CV] ........ max_depth=7, n_estimators=20, score=0.866, total=   0.0s\n",
      "[CV] max_depth=7, n_estimators=20 ....................................\n",
      "[CV] ........ max_depth=7, n_estimators=20, score=0.776, total=   0.0s\n",
      "[CV] max_depth=7, n_estimators=20 ....................................\n",
      "[CV] ........ max_depth=7, n_estimators=20, score=0.789, total=   0.0s\n",
      "[CV] max_depth=7, n_estimators=20 ....................................\n",
      "[CV] ........ max_depth=7, n_estimators=20, score=0.857, total=   0.0s\n",
      "[CV] max_depth=7, n_estimators=30 ....................................\n",
      "[CV] ........ max_depth=7, n_estimators=30, score=0.806, total=   0.1s\n",
      "[CV] max_depth=7, n_estimators=30 ....................................\n",
      "[CV] ........ max_depth=7, n_estimators=30, score=0.851, total=   0.1s\n",
      "[CV] max_depth=7, n_estimators=30 ....................................\n",
      "[CV] ........ max_depth=7, n_estimators=30, score=0.761, total=   0.0s\n",
      "[CV] max_depth=7, n_estimators=30 ....................................\n",
      "[CV] ........ max_depth=7, n_estimators=30, score=0.835, total=   0.1s\n",
      "[CV] max_depth=7, n_estimators=30 ....................................\n",
      "[CV] ........ max_depth=7, n_estimators=30, score=0.857, total=   0.0s\n",
      "[CV] max_depth=7, n_estimators=40 ....................................\n",
      "[CV] ........ max_depth=7, n_estimators=40, score=0.776, total=   0.1s\n",
      "[CV] max_depth=7, n_estimators=40 ....................................\n",
      "[CV] ........ max_depth=7, n_estimators=40, score=0.866, total=   0.1s\n",
      "[CV] max_depth=7, n_estimators=40 ....................................\n",
      "[CV] ........ max_depth=7, n_estimators=40, score=0.784, total=   0.1s\n",
      "[CV] max_depth=7, n_estimators=40 ....................................\n",
      "[CV] ........ max_depth=7, n_estimators=40, score=0.827, total=   0.1s\n",
      "[CV] max_depth=7, n_estimators=40 ....................................\n",
      "[CV] ........ max_depth=7, n_estimators=40, score=0.872, total=   0.1s\n",
      "[CV] max_depth=7, n_estimators=50 ....................................\n",
      "[CV] ........ max_depth=7, n_estimators=50, score=0.784, total=   0.1s\n",
      "[CV] max_depth=7, n_estimators=50 ....................................\n",
      "[CV] ........ max_depth=7, n_estimators=50, score=0.858, total=   0.1s\n",
      "[CV] max_depth=7, n_estimators=50 ....................................\n",
      "[CV] ........ max_depth=7, n_estimators=50, score=0.776, total=   0.1s\n",
      "[CV] max_depth=7, n_estimators=50 ....................................\n",
      "[CV] ........ max_depth=7, n_estimators=50, score=0.812, total=   0.1s\n",
      "[CV] max_depth=7, n_estimators=50 ....................................\n",
      "[CV] ........ max_depth=7, n_estimators=50, score=0.865, total=   0.1s\n",
      "[CV] max_depth=7, n_estimators=60 ....................................\n",
      "[CV] ........ max_depth=7, n_estimators=60, score=0.791, total=   0.1s\n",
      "[CV] max_depth=7, n_estimators=60 ....................................\n",
      "[CV] ........ max_depth=7, n_estimators=60, score=0.858, total=   0.1s\n",
      "[CV] max_depth=7, n_estimators=60 ....................................\n",
      "[CV] ........ max_depth=7, n_estimators=60, score=0.776, total=   0.2s\n",
      "[CV] max_depth=7, n_estimators=60 ....................................\n",
      "[CV] ........ max_depth=7, n_estimators=60, score=0.835, total=   0.3s\n",
      "[CV] max_depth=7, n_estimators=60 ....................................\n",
      "[CV] ........ max_depth=7, n_estimators=60, score=0.887, total=   0.2s\n",
      "[CV] max_depth=7, n_estimators=70 ....................................\n",
      "[CV] ........ max_depth=7, n_estimators=70, score=0.791, total=   0.1s\n",
      "[CV] max_depth=7, n_estimators=70 ....................................\n",
      "[CV] ........ max_depth=7, n_estimators=70, score=0.851, total=   0.1s\n",
      "[CV] max_depth=7, n_estimators=70 ....................................\n",
      "[CV] ........ max_depth=7, n_estimators=70, score=0.776, total=   0.2s\n",
      "[CV] max_depth=7, n_estimators=70 ....................................\n",
      "[CV] ........ max_depth=7, n_estimators=70, score=0.842, total=   0.2s\n",
      "[CV] max_depth=7, n_estimators=70 ....................................\n",
      "[CV] ........ max_depth=7, n_estimators=70, score=0.865, total=   0.2s\n",
      "[CV] max_depth=7, n_estimators=80 ....................................\n",
      "[CV] ........ max_depth=7, n_estimators=80, score=0.784, total=   0.2s\n",
      "[CV] max_depth=7, n_estimators=80 ....................................\n",
      "[CV] ........ max_depth=7, n_estimators=80, score=0.858, total=   0.1s\n",
      "[CV] max_depth=7, n_estimators=80 ....................................\n",
      "[CV] ........ max_depth=7, n_estimators=80, score=0.784, total=   0.1s\n",
      "[CV] max_depth=7, n_estimators=80 ....................................\n",
      "[CV] ........ max_depth=7, n_estimators=80, score=0.835, total=   0.1s\n",
      "[CV] max_depth=7, n_estimators=80 ....................................\n",
      "[CV] ........ max_depth=7, n_estimators=80, score=0.872, total=   0.2s\n",
      "[CV] max_depth=7, n_estimators=90 ....................................\n",
      "[CV] ........ max_depth=7, n_estimators=90, score=0.799, total=   0.3s\n",
      "[CV] max_depth=7, n_estimators=90 ....................................\n",
      "[CV] ........ max_depth=7, n_estimators=90, score=0.858, total=   0.2s\n",
      "[CV] max_depth=7, n_estimators=90 ....................................\n"
     ]
    },
    {
     "name": "stdout",
     "output_type": "stream",
     "text": [
      "[CV] ........ max_depth=7, n_estimators=90, score=0.784, total=   0.2s\n",
      "[CV] max_depth=7, n_estimators=90 ....................................\n",
      "[CV] ........ max_depth=7, n_estimators=90, score=0.827, total=   0.1s\n",
      "[CV] max_depth=7, n_estimators=90 ....................................\n",
      "[CV] ........ max_depth=7, n_estimators=90, score=0.872, total=   0.2s\n",
      "[CV] max_depth=7, n_estimators=100 ...................................\n",
      "[CV] ....... max_depth=7, n_estimators=100, score=0.799, total=   0.3s\n",
      "[CV] max_depth=7, n_estimators=100 ...................................\n",
      "[CV] ....... max_depth=7, n_estimators=100, score=0.858, total=   0.3s\n",
      "[CV] max_depth=7, n_estimators=100 ...................................\n",
      "[CV] ....... max_depth=7, n_estimators=100, score=0.776, total=   0.2s\n",
      "[CV] max_depth=7, n_estimators=100 ...................................\n",
      "[CV] ....... max_depth=7, n_estimators=100, score=0.827, total=   0.2s\n",
      "[CV] max_depth=7, n_estimators=100 ...................................\n",
      "[CV] ....... max_depth=7, n_estimators=100, score=0.872, total=   0.3s\n",
      "[CV] max_depth=8, n_estimators=10 ....................................\n",
      "[CV] ........ max_depth=8, n_estimators=10, score=0.806, total=   0.0s\n",
      "[CV] max_depth=8, n_estimators=10 ....................................\n",
      "[CV] ........ max_depth=8, n_estimators=10, score=0.851, total=   0.0s\n",
      "[CV] max_depth=8, n_estimators=10 ....................................\n",
      "[CV] ........ max_depth=8, n_estimators=10, score=0.769, total=   0.0s\n",
      "[CV] max_depth=8, n_estimators=10 ....................................\n",
      "[CV] ........ max_depth=8, n_estimators=10, score=0.820, total=   0.0s\n",
      "[CV] max_depth=8, n_estimators=10 ....................................\n",
      "[CV] ........ max_depth=8, n_estimators=10, score=0.835, total=   0.0s\n",
      "[CV] max_depth=8, n_estimators=20 ....................................\n",
      "[CV] ........ max_depth=8, n_estimators=20, score=0.784, total=   0.0s\n",
      "[CV] max_depth=8, n_estimators=20 ....................................\n",
      "[CV] ........ max_depth=8, n_estimators=20, score=0.851, total=   0.0s\n",
      "[CV] max_depth=8, n_estimators=20 ....................................\n",
      "[CV] ........ max_depth=8, n_estimators=20, score=0.784, total=   0.0s\n",
      "[CV] max_depth=8, n_estimators=20 ....................................\n",
      "[CV] ........ max_depth=8, n_estimators=20, score=0.835, total=   0.0s\n",
      "[CV] max_depth=8, n_estimators=20 ....................................\n",
      "[CV] ........ max_depth=8, n_estimators=20, score=0.827, total=   0.0s\n",
      "[CV] max_depth=8, n_estimators=30 ....................................\n",
      "[CV] ........ max_depth=8, n_estimators=30, score=0.799, total=   0.0s\n",
      "[CV] max_depth=8, n_estimators=30 ....................................\n",
      "[CV] ........ max_depth=8, n_estimators=30, score=0.858, total=   0.1s\n",
      "[CV] max_depth=8, n_estimators=30 ....................................\n",
      "[CV] ........ max_depth=8, n_estimators=30, score=0.754, total=   0.1s\n",
      "[CV] max_depth=8, n_estimators=30 ....................................\n",
      "[CV] ........ max_depth=8, n_estimators=30, score=0.850, total=   0.1s\n",
      "[CV] max_depth=8, n_estimators=30 ....................................\n",
      "[CV] ........ max_depth=8, n_estimators=30, score=0.880, total=   0.1s\n",
      "[CV] max_depth=8, n_estimators=40 ....................................\n",
      "[CV] ........ max_depth=8, n_estimators=40, score=0.784, total=   0.1s\n",
      "[CV] max_depth=8, n_estimators=40 ....................................\n",
      "[CV] ........ max_depth=8, n_estimators=40, score=0.858, total=   0.1s\n",
      "[CV] max_depth=8, n_estimators=40 ....................................\n",
      "[CV] ........ max_depth=8, n_estimators=40, score=0.761, total=   0.1s\n",
      "[CV] max_depth=8, n_estimators=40 ....................................\n",
      "[CV] ........ max_depth=8, n_estimators=40, score=0.850, total=   0.1s\n",
      "[CV] max_depth=8, n_estimators=40 ....................................\n",
      "[CV] ........ max_depth=8, n_estimators=40, score=0.850, total=   0.1s\n",
      "[CV] max_depth=8, n_estimators=50 ....................................\n",
      "[CV] ........ max_depth=8, n_estimators=50, score=0.791, total=   0.1s\n",
      "[CV] max_depth=8, n_estimators=50 ....................................\n",
      "[CV] ........ max_depth=8, n_estimators=50, score=0.858, total=   0.1s\n",
      "[CV] max_depth=8, n_estimators=50 ....................................\n",
      "[CV] ........ max_depth=8, n_estimators=50, score=0.776, total=   0.1s\n",
      "[CV] max_depth=8, n_estimators=50 ....................................\n",
      "[CV] ........ max_depth=8, n_estimators=50, score=0.835, total=   0.1s\n",
      "[CV] max_depth=8, n_estimators=50 ....................................\n",
      "[CV] ........ max_depth=8, n_estimators=50, score=0.850, total=   0.1s\n",
      "[CV] max_depth=8, n_estimators=60 ....................................\n",
      "[CV] ........ max_depth=8, n_estimators=60, score=0.784, total=   0.1s\n",
      "[CV] max_depth=8, n_estimators=60 ....................................\n",
      "[CV] ........ max_depth=8, n_estimators=60, score=0.851, total=   0.2s\n",
      "[CV] max_depth=8, n_estimators=60 ....................................\n",
      "[CV] ........ max_depth=8, n_estimators=60, score=0.754, total=   0.1s\n",
      "[CV] max_depth=8, n_estimators=60 ....................................\n",
      "[CV] ........ max_depth=8, n_estimators=60, score=0.850, total=   0.1s\n",
      "[CV] max_depth=8, n_estimators=60 ....................................\n",
      "[CV] ........ max_depth=8, n_estimators=60, score=0.857, total=   0.1s\n",
      "[CV] max_depth=8, n_estimators=70 ....................................\n",
      "[CV] ........ max_depth=8, n_estimators=70, score=0.784, total=   0.1s\n",
      "[CV] max_depth=8, n_estimators=70 ....................................\n",
      "[CV] ........ max_depth=8, n_estimators=70, score=0.843, total=   0.1s\n",
      "[CV] max_depth=8, n_estimators=70 ....................................\n",
      "[CV] ........ max_depth=8, n_estimators=70, score=0.761, total=   0.1s\n",
      "[CV] max_depth=8, n_estimators=70 ....................................\n",
      "[CV] ........ max_depth=8, n_estimators=70, score=0.835, total=   0.1s\n",
      "[CV] max_depth=8, n_estimators=70 ....................................\n",
      "[CV] ........ max_depth=8, n_estimators=70, score=0.872, total=   0.2s\n",
      "[CV] max_depth=8, n_estimators=80 ....................................\n",
      "[CV] ........ max_depth=8, n_estimators=80, score=0.776, total=   0.2s\n",
      "[CV] max_depth=8, n_estimators=80 ....................................\n",
      "[CV] ........ max_depth=8, n_estimators=80, score=0.858, total=   0.2s\n",
      "[CV] max_depth=8, n_estimators=80 ....................................\n",
      "[CV] ........ max_depth=8, n_estimators=80, score=0.761, total=   0.1s\n",
      "[CV] max_depth=8, n_estimators=80 ....................................\n",
      "[CV] ........ max_depth=8, n_estimators=80, score=0.820, total=   0.2s\n",
      "[CV] max_depth=8, n_estimators=80 ....................................\n",
      "[CV] ........ max_depth=8, n_estimators=80, score=0.857, total=   0.3s\n",
      "[CV] max_depth=8, n_estimators=90 ....................................\n",
      "[CV] ........ max_depth=8, n_estimators=90, score=0.776, total=   0.3s\n",
      "[CV] max_depth=8, n_estimators=90 ....................................\n",
      "[CV] ........ max_depth=8, n_estimators=90, score=0.851, total=   0.3s\n",
      "[CV] max_depth=8, n_estimators=90 ....................................\n",
      "[CV] ........ max_depth=8, n_estimators=90, score=0.769, total=   0.2s\n",
      "[CV] max_depth=8, n_estimators=90 ....................................\n",
      "[CV] ........ max_depth=8, n_estimators=90, score=0.835, total=   0.3s\n",
      "[CV] max_depth=8, n_estimators=90 ....................................\n",
      "[CV] ........ max_depth=8, n_estimators=90, score=0.872, total=   0.2s\n",
      "[CV] max_depth=8, n_estimators=100 ...................................\n",
      "[CV] ....... max_depth=8, n_estimators=100, score=0.776, total=   0.2s\n",
      "[CV] max_depth=8, n_estimators=100 ...................................\n",
      "[CV] ....... max_depth=8, n_estimators=100, score=0.843, total=   0.2s\n",
      "[CV] max_depth=8, n_estimators=100 ...................................\n",
      "[CV] ....... max_depth=8, n_estimators=100, score=0.776, total=   0.2s\n",
      "[CV] max_depth=8, n_estimators=100 ...................................\n",
      "[CV] ....... max_depth=8, n_estimators=100, score=0.842, total=   0.3s\n",
      "[CV] max_depth=8, n_estimators=100 ...................................\n",
      "[CV] ....... max_depth=8, n_estimators=100, score=0.865, total=   0.2s\n",
      "[CV] max_depth=9, n_estimators=10 ....................................\n"
     ]
    },
    {
     "name": "stdout",
     "output_type": "stream",
     "text": [
      "[CV] ........ max_depth=9, n_estimators=10, score=0.761, total=   0.0s\n",
      "[CV] max_depth=9, n_estimators=10 ....................................\n",
      "[CV] ........ max_depth=9, n_estimators=10, score=0.813, total=   0.0s\n",
      "[CV] max_depth=9, n_estimators=10 ....................................\n",
      "[CV] ........ max_depth=9, n_estimators=10, score=0.761, total=   0.0s\n",
      "[CV] max_depth=9, n_estimators=10 ....................................\n",
      "[CV] ........ max_depth=9, n_estimators=10, score=0.842, total=   0.0s\n",
      "[CV] max_depth=9, n_estimators=10 ....................................\n",
      "[CV] ........ max_depth=9, n_estimators=10, score=0.865, total=   0.0s\n",
      "[CV] max_depth=9, n_estimators=20 ....................................\n",
      "[CV] ........ max_depth=9, n_estimators=20, score=0.828, total=   0.0s\n",
      "[CV] max_depth=9, n_estimators=20 ....................................\n",
      "[CV] ........ max_depth=9, n_estimators=20, score=0.821, total=   0.0s\n",
      "[CV] max_depth=9, n_estimators=20 ....................................\n",
      "[CV] ........ max_depth=9, n_estimators=20, score=0.754, total=   0.0s\n",
      "[CV] max_depth=9, n_estimators=20 ....................................\n",
      "[CV] ........ max_depth=9, n_estimators=20, score=0.812, total=   0.0s\n",
      "[CV] max_depth=9, n_estimators=20 ....................................\n",
      "[CV] ........ max_depth=9, n_estimators=20, score=0.872, total=   0.0s\n",
      "[CV] max_depth=9, n_estimators=30 ....................................\n",
      "[CV] ........ max_depth=9, n_estimators=30, score=0.776, total=   0.1s\n",
      "[CV] max_depth=9, n_estimators=30 ....................................\n",
      "[CV] ........ max_depth=9, n_estimators=30, score=0.828, total=   0.0s\n",
      "[CV] max_depth=9, n_estimators=30 ....................................\n",
      "[CV] ........ max_depth=9, n_estimators=30, score=0.784, total=   0.1s\n",
      "[CV] max_depth=9, n_estimators=30 ....................................\n",
      "[CV] ........ max_depth=9, n_estimators=30, score=0.820, total=   0.1s\n",
      "[CV] max_depth=9, n_estimators=30 ....................................\n",
      "[CV] ........ max_depth=9, n_estimators=30, score=0.872, total=   0.1s\n",
      "[CV] max_depth=9, n_estimators=40 ....................................\n",
      "[CV] ........ max_depth=9, n_estimators=40, score=0.806, total=   0.1s\n",
      "[CV] max_depth=9, n_estimators=40 ....................................\n",
      "[CV] ........ max_depth=9, n_estimators=40, score=0.821, total=   0.1s\n",
      "[CV] max_depth=9, n_estimators=40 ....................................\n",
      "[CV] ........ max_depth=9, n_estimators=40, score=0.761, total=   0.1s\n",
      "[CV] max_depth=9, n_estimators=40 ....................................\n",
      "[CV] ........ max_depth=9, n_estimators=40, score=0.827, total=   0.1s\n",
      "[CV] max_depth=9, n_estimators=40 ....................................\n",
      "[CV] ........ max_depth=9, n_estimators=40, score=0.857, total=   0.1s\n",
      "[CV] max_depth=9, n_estimators=50 ....................................\n",
      "[CV] ........ max_depth=9, n_estimators=50, score=0.754, total=   0.1s\n",
      "[CV] max_depth=9, n_estimators=50 ....................................\n",
      "[CV] ........ max_depth=9, n_estimators=50, score=0.843, total=   0.1s\n",
      "[CV] max_depth=9, n_estimators=50 ....................................\n",
      "[CV] ........ max_depth=9, n_estimators=50, score=0.754, total=   0.1s\n",
      "[CV] max_depth=9, n_estimators=50 ....................................\n",
      "[CV] ........ max_depth=9, n_estimators=50, score=0.835, total=   0.1s\n",
      "[CV] max_depth=9, n_estimators=50 ....................................\n",
      "[CV] ........ max_depth=9, n_estimators=50, score=0.865, total=   0.1s\n",
      "[CV] max_depth=9, n_estimators=60 ....................................\n",
      "[CV] ........ max_depth=9, n_estimators=60, score=0.784, total=   0.1s\n",
      "[CV] max_depth=9, n_estimators=60 ....................................\n",
      "[CV] ........ max_depth=9, n_estimators=60, score=0.821, total=   0.2s\n",
      "[CV] max_depth=9, n_estimators=60 ....................................\n",
      "[CV] ........ max_depth=9, n_estimators=60, score=0.754, total=   0.1s\n",
      "[CV] max_depth=9, n_estimators=60 ....................................\n",
      "[CV] ........ max_depth=9, n_estimators=60, score=0.842, total=   0.1s\n",
      "[CV] max_depth=9, n_estimators=60 ....................................\n",
      "[CV] ........ max_depth=9, n_estimators=60, score=0.865, total=   0.1s\n",
      "[CV] max_depth=9, n_estimators=70 ....................................\n",
      "[CV] ........ max_depth=9, n_estimators=70, score=0.776, total=   0.2s\n",
      "[CV] max_depth=9, n_estimators=70 ....................................\n",
      "[CV] ........ max_depth=9, n_estimators=70, score=0.828, total=   0.2s\n",
      "[CV] max_depth=9, n_estimators=70 ....................................\n",
      "[CV] ........ max_depth=9, n_estimators=70, score=0.754, total=   0.2s\n",
      "[CV] max_depth=9, n_estimators=70 ....................................\n",
      "[CV] ........ max_depth=9, n_estimators=70, score=0.827, total=   0.2s\n",
      "[CV] max_depth=9, n_estimators=70 ....................................\n",
      "[CV] ........ max_depth=9, n_estimators=70, score=0.872, total=   0.1s\n",
      "[CV] max_depth=9, n_estimators=80 ....................................\n",
      "[CV] ........ max_depth=9, n_estimators=80, score=0.784, total=   0.2s\n",
      "[CV] max_depth=9, n_estimators=80 ....................................\n",
      "[CV] ........ max_depth=9, n_estimators=80, score=0.843, total=   0.2s\n",
      "[CV] max_depth=9, n_estimators=80 ....................................\n",
      "[CV] ........ max_depth=9, n_estimators=80, score=0.746, total=   0.2s\n",
      "[CV] max_depth=9, n_estimators=80 ....................................\n",
      "[CV] ........ max_depth=9, n_estimators=80, score=0.850, total=   0.1s\n",
      "[CV] max_depth=9, n_estimators=80 ....................................\n",
      "[CV] ........ max_depth=9, n_estimators=80, score=0.857, total=   0.1s\n",
      "[CV] max_depth=9, n_estimators=90 ....................................\n",
      "[CV] ........ max_depth=9, n_estimators=90, score=0.799, total=   0.2s\n",
      "[CV] max_depth=9, n_estimators=90 ....................................\n",
      "[CV] ........ max_depth=9, n_estimators=90, score=0.828, total=   0.2s\n",
      "[CV] max_depth=9, n_estimators=90 ....................................\n",
      "[CV] ........ max_depth=9, n_estimators=90, score=0.769, total=   0.3s\n",
      "[CV] max_depth=9, n_estimators=90 ....................................\n",
      "[CV] ........ max_depth=9, n_estimators=90, score=0.827, total=   0.2s\n",
      "[CV] max_depth=9, n_estimators=90 ....................................\n",
      "[CV] ........ max_depth=9, n_estimators=90, score=0.865, total=   0.2s\n",
      "[CV] max_depth=9, n_estimators=100 ...................................\n",
      "[CV] ....... max_depth=9, n_estimators=100, score=0.769, total=   0.2s\n",
      "[CV] max_depth=9, n_estimators=100 ...................................\n",
      "[CV] ....... max_depth=9, n_estimators=100, score=0.813, total=   0.3s\n",
      "[CV] max_depth=9, n_estimators=100 ...................................\n",
      "[CV] ....... max_depth=9, n_estimators=100, score=0.769, total=   0.3s\n",
      "[CV] max_depth=9, n_estimators=100 ...................................\n",
      "[CV] ....... max_depth=9, n_estimators=100, score=0.842, total=   0.2s\n",
      "[CV] max_depth=9, n_estimators=100 ...................................\n",
      "[CV] ....... max_depth=9, n_estimators=100, score=0.850, total=   0.2s\n"
     ]
    },
    {
     "name": "stderr",
     "output_type": "stream",
     "text": [
      "[Parallel(n_jobs=1)]: Done 350 out of 350 | elapsed:   42.1s finished\n"
     ]
    },
    {
     "data": {
      "text/plain": [
       "GridSearchCV(cv=5, error_score='raise-deprecating',\n",
       "             estimator=RandomForestClassifier(bootstrap=True, class_weight=None,\n",
       "                                              criterion='gini', max_depth=None,\n",
       "                                              max_features='auto',\n",
       "                                              max_leaf_nodes=None,\n",
       "                                              min_impurity_decrease=0.0,\n",
       "                                              min_impurity_split=None,\n",
       "                                              min_samples_leaf=1,\n",
       "                                              min_samples_split=2,\n",
       "                                              min_weight_fraction_leaf=0.0,\n",
       "                                              n_estimators=10, n_jobs=None,\n",
       "                                              oob_score=False,\n",
       "                                              random_state=None, verbose=0,\n",
       "                                              warm_start=False),\n",
       "             iid='warn', n_jobs=None,\n",
       "             param_grid=[{'max_depth': range(3, 10),\n",
       "                          'n_estimators': array([ 10,  20,  30,  40,  50,  60,  70,  80,  90, 100])}],\n",
       "             pre_dispatch='2*n_jobs', refit=True, return_train_score=False,\n",
       "             scoring=None, verbose=3)"
      ]
     },
     "execution_count": 53,
     "metadata": {},
     "output_type": "execute_result"
    }
   ],
   "source": [
    "from sklearn.model_selection import GridSearchCV\n",
    "\n",
    "param_grid = [{'max_depth': range(3, 10), 'n_estimators': np.linspace(10, 100, 10).astype('int') }]\n",
    "\n",
    "grid_search = GridSearchCV(rfc, param_grid, cv=5, verbose=3)\n",
    "grid_search.fit(x_train, y_train)"
   ]
  },
  {
   "cell_type": "code",
   "execution_count": 54,
   "metadata": {},
   "outputs": [
    {
     "data": {
      "text/plain": [
       "{'max_depth': 5, 'n_estimators': 60}"
      ]
     },
     "execution_count": 54,
     "metadata": {},
     "output_type": "execute_result"
    }
   ],
   "source": [
    "grid_search.best_params_"
   ]
  },
  {
   "cell_type": "code",
   "execution_count": 55,
   "metadata": {},
   "outputs": [
    {
     "data": {
      "text/plain": [
       "0.8368263473053892"
      ]
     },
     "execution_count": 55,
     "metadata": {},
     "output_type": "execute_result"
    }
   ],
   "source": [
    "grid_search.best_score_"
   ]
  },
  {
   "cell_type": "code",
   "execution_count": 56,
   "metadata": {},
   "outputs": [
    {
     "data": {
      "text/plain": [
       "0.8340807174887892"
      ]
     },
     "execution_count": 56,
     "metadata": {},
     "output_type": "execute_result"
    }
   ],
   "source": [
    "from sklearn.metrics import accuracy_score\n",
    "\n",
    "y_pred = grid_search.predict(x_test)\n",
    "accuracy_score(y_test, y_pred)"
   ]
  },
  {
   "cell_type": "code",
   "execution_count": 73,
   "metadata": {},
   "outputs": [
    {
     "name": "stdout",
     "output_type": "stream",
     "text": [
      "When we claim a passenger will die, it is correct only 81.71% of the time. Moreover, it only detects 75.28% of the dead.\n"
     ]
    }
   ],
   "source": [
    "from sklearn.metrics import precision_score, recall_score\n",
    "\n",
    "precision = round(precision_score(y_test, y_pred)*100, 2)\n",
    "recall = round(recall_score(y_test, y_pred)*100, 2)\n",
    "\n",
    "print(\"When we claim a passenger will die, it is correct only {}% of the time. Moreover, it only \\\n",
    "detects {}% of the dead.\".format(precision, recall))"
   ]
  },
  {
   "cell_type": "code",
   "execution_count": 85,
   "metadata": {},
   "outputs": [],
   "source": [
    "y_scores = grid_search.predict_proba(x_test)\n",
    "#y_scores[:, 1] #for positive class"
   ]
  },
  {
   "cell_type": "code",
   "execution_count": 86,
   "metadata": {},
   "outputs": [],
   "source": [
    "from sklearn.metrics import precision_recall_curve\n",
    "\n",
    "precisions, recalls, thresholds = precision_recall_curve(y_test, y_scores[:, 1])"
   ]
  },
  {
   "cell_type": "code",
   "execution_count": 89,
   "metadata": {},
   "outputs": [
    {
     "data": {
      "image/png": "[encoded data removed]",
      "text/plain": [
       "<Figure size 576x288 with 1 Axes>"
      ]
     },
     "metadata": {
      "needs_background": "light"
     },
     "output_type": "display_data"
    }
   ],
   "source": [
    "def plot_precision_recall_vs_threshold(precisions, recalls, thresholds):\n",
    "    plt.plot(thresholds, precisions[:-1], \"b--\", label=\"Precision\", linewidth=2)\n",
    "    plt.plot(thresholds, recalls[:-1], \"g-\", label=\"Recall\", linewidth=2)\n",
    "    plt.legend(loc=\"center right\", fontsize=16) \n",
    "    plt.xlabel(\"Threshold\", fontsize=16)        \n",
    "    plt.grid(True)                              \n",
    "    #plt.axis([-50000, 50000, 0, 1])             \n",
    "\n",
    "\n",
    "\n",
    "recall_90_precision = recalls[np.argmax(precisions >= 0.90)]\n",
    "threshold_90_precision = thresholds[np.argmax(precisions >= 0.90)]\n",
    "\n",
    "\n",
    "plt.figure(figsize=(8, 4))                                                                  \n",
    "\n",
    "plot_precision_recall_vs_threshold(precisions, recalls, thresholds)\n",
    "plt.plot([threshold_90_precision, threshold_90_precision], [0., 0.9], \"r:\")                 \n",
    "#plt.plot([-50000, threshold_90_precision], [0.9, 0.9], \"r:\")                                \n",
    "#plt.plot([-50000, threshold_90_precision], [recall_90_precision, recall_90_precision], \"r:\")\n",
    "plt.plot([threshold_90_precision], [0.9], \"ro\")                                             \n",
    "plt.plot([threshold_90_precision], [recall_90_precision], \"ro\")                             \n",
    "#save_fig(\"precision_recall_vs_threshold_plot\")                                              \n",
    "plt.show()"
   ]
  },
  {
   "cell_type": "code",
   "execution_count": 95,
   "metadata": {},
   "outputs": [],
   "source": [
    "from sklearn.metrics import roc_curve\n",
    "\n",
    "fpr_forest, tpr_forest, thresholds_forest = roc_curve(y_test, y_scores[:, 1])"
   ]
  },
  {
   "cell_type": "code",
   "execution_count": 99,
   "metadata": {},
   "outputs": [
    {
     "data": {
      "image/png": "[encoded data removed]",
      "text/plain": [
       "<Figure size 576x432 with 1 Axes>"
      ]
     },
     "metadata": {
      "needs_background": "light"
     },
     "output_type": "display_data"
    }
   ],
   "source": [
    "def plot_roc_curve(fpr, tpr, label=None):\n",
    "    plt.plot(fpr, tpr, linewidth=2, label=label)\n",
    "    plt.plot([0, 1], [0, 1], 'k--') # dashed diagonal\n",
    "    plt.axis([0, 1, 0, 1])                                    \n",
    "    plt.xlabel('False Positive Rate (Fall-Out)', fontsize=16) \n",
    "    plt.ylabel('True Positive Rate (Recall)', fontsize=16)    \n",
    "    plt.grid(True)                                            \n",
    "\n",
    "plt.figure(figsize=(8, 6))\n",
    "plot_roc_curve(fpr_forest, tpr_forest, \"Random Forest\")\n",
    "\n",
    "plt.grid(True)\n",
    "plt.legend(loc=\"lower right\", fontsize=16)\n",
    "#save_fig(\"roc_curve_comparison_plot\")\n",
    "plt.show()"
   ]
  },
  {
   "cell_type": "markdown",
   "metadata": {},
   "source": [
    "4. Build a spam classifier (a more challenging exercise):\n",
    "<pre>\n",
    "• Download examples of spam and ham from <a href=\"https://spamassassin.apache.org/old/publiccorpus/\"> Apache SpamAssassin’s public datasets.</a>\n",
    "• Unzip the datasets and familiarize yourself with the data format.\n",
    "• Split the datasets into a training set and a test set.\n",
    "• Write a data preparation pipeline to convert each email into a feature vector.\n",
    "Your preparation pipeline should transform an email into a (sparse) vector that\n",
    "indicates the presence or absence of each possible word. For example, if all\n",
    "emails only ever contain four words, “Hello,” “how,” “are,” “you,” then the email\n",
    "“Hello you Hello Hello you” would be converted into a vector [1, 0, 0, 1]\n",
    "(meaning [“Hello” is present, “how” is absent, “are” is absent, “you” is\n",
    "present]), or [3, 0, 0, 2] if you prefer to count the number of occurrences of\n",
    "each word.\n",
    "You may want to add hyperparameters to your preparation pipeline to control\n",
    "whether or not to strip off email headers, convert each email to lowercase,\n",
    "remove punctuation, replace all URLs with “URL,” replace all numbers with\n",
    "“NUMBER,” or even perform stemming (i.e., trim off word endings; there are\n",
    "Python libraries available to do this).\n",
    "Finally, try out several classifiers and see if you can build a great spam classifier,\n",
    "with both high recall and high precision.\n",
    "</pre>"
   ]
  },
  {
   "cell_type": "code",
   "execution_count": 1,
   "metadata": {},
   "outputs": [
    {
     "data": {
      "text/plain": [
       "<module 'tarfile' from 'c:\\\\users\\\\abhishek\\\\appdata\\\\local\\\\programs\\\\python\\\\python36\\\\lib\\\\tarfile.py'>"
      ]
     },
     "execution_count": 1,
     "metadata": {},
     "output_type": "execute_result"
    }
   ],
   "source": [
    "import os\n",
    "import tarfile\n",
    "import urllib\n",
    "\n",
    "tarfile"
   ]
  },
  {
   "cell_type": "code",
   "execution_count": 23,
   "metadata": {},
   "outputs": [],
   "source": [
    "HAM_DOWN_PATH = \"https://spamassassin.apache.org/old/publiccorpus/20021010_easy_ham.tar.bz2\"\n",
    "SPAM_DOWN_PATH = \"https://spamassassin.apache.org/old/publiccorpus/20021010_spam.tar.bz2 \"\n",
    "\n",
    "DATA_DIR_PATH = os.path.join('datasets', 'spam')\n",
    "\n",
    "HAM_PATH = os.path.join(DATA_DIR_PATH, 'ham.tar.bz2')\n",
    "SPAM_PATH = os.path.join(DATA_DIR_PATH, 'spam.tar.bz2')\n",
    "\n",
    "if not os.path.isdir(DATA_DIR_PATH):\n",
    "    os.makedirs(DATA_DIR_PATH)\n",
    "\n",
    "for path, url in zip([HAM_PATH, SPAM_PATH], [HAM_DOWN_PATH, SPAM_DOWN_PATH]):\n",
    "    if not os.path.isfile(path):\n",
    "        urllib.request.urlretrieve(url, path)\n",
    "    with tarfile.open(path) as tar_file:\n",
    "        tar_file.extractall(path=DATA_DIR_PATH)"
   ]
  },
  {
   "cell_type": "code",
   "execution_count": 28,
   "metadata": {},
   "outputs": [
    {
     "name": "stdout",
     "output_type": "stream",
     "text": [
      "no. of spam files 2551 and no. of ham files 501. THOU GREAT IMBALANCE\n"
     ]
    }
   ],
   "source": [
    "HAM_DIR = os.path.join(DATA_DIR_PATH, 'easy_ham')\n",
    "SPAM_DIR = os.path.join(DATA_DIR_PATH, 'spam')\n",
    "\n",
    "ham_files = os.listdir(HAM_DIR)\n",
    "spam_files = os.listdir(SPAM_DIR)\n",
    "print(\"no. of spam files {} and no. of ham files {}. THOU GREAT IMBALANCE\".format(len(ham_files), len(spam_files)))"
   ]
  },
  {
   "cell_type": "code",
   "execution_count": 32,
   "metadata": {},
   "outputs": [],
   "source": [
    "import email\n",
    "import email.policy"
   ]
  },
  {
   "cell_type": "code",
   "execution_count": 38,
   "metadata": {},
   "outputs": [],
   "source": [
    "with open(os.path.join(HAM_DIR, ham_files[0])) as fp:\n",
    "    obj = email.message_from_file(fp)"
   ]
  },
  {
   "cell_type": "code",
   "execution_count": 82,
   "metadata": {},
   "outputs": [
    {
     "name": "stdout",
     "output_type": "stream",
     "text": [
      "\u001b[1;32;48m Return-Path:\n",
      "\u001b[1;33;48m <exmh-workers-admin@example.com>\n",
      "\u001b[1;32;48m Delivered-To:\n",
      "\u001b[1;33;48m zzzz@localhost.netnoteinc.com\n",
      "\u001b[1;32;48m Received:\n",
      "\u001b[1;33;48m from localhost (localhost [127.0.0.1])\n",
      "\tby phobos.labs.netnoteinc.com (Postfix) with ESMTP id D03E543C36\n",
      "\tfor <zzzz@localhost>; Thu, 22 Aug 2002 07:36:16 -0400 (EDT)\n",
      "\u001b[1;32;48m Received:\n",
      "\u001b[1;33;48m from localhost (localhost [127.0.0.1])\n",
      "\tby phobos.labs.netnoteinc.com (Postfix) with ESMTP id D03E543C36\n",
      "\tfor <zzzz@localhost>; Thu, 22 Aug 2002 07:36:16 -0400 (EDT)\n",
      "\u001b[1;32;48m Received:\n",
      "\u001b[1;33;48m from localhost (localhost [127.0.0.1])\n",
      "\tby phobos.labs.netnoteinc.com (Postfix) with ESMTP id D03E543C36\n",
      "\tfor <zzzz@localhost>; Thu, 22 Aug 2002 07:36:16 -0400 (EDT)\n",
      "\u001b[1;32;48m Received:\n",
      "\u001b[1;33;48m from localhost (localhost [127.0.0.1])\n",
      "\tby phobos.labs.netnoteinc.com (Postfix) with ESMTP id D03E543C36\n",
      "\tfor <zzzz@localhost>; Thu, 22 Aug 2002 07:36:16 -0400 (EDT)\n",
      "\u001b[1;32;48m Delivered-To:\n",
      "\u001b[1;33;48m zzzz@localhost.netnoteinc.com\n",
      "\u001b[1;32;48m Received:\n",
      "\u001b[1;33;48m from localhost (localhost [127.0.0.1])\n",
      "\tby phobos.labs.netnoteinc.com (Postfix) with ESMTP id D03E543C36\n",
      "\tfor <zzzz@localhost>; Thu, 22 Aug 2002 07:36:16 -0400 (EDT)\n",
      "\u001b[1;32;48m Received:\n",
      "\u001b[1;33;48m from localhost (localhost [127.0.0.1])\n",
      "\tby phobos.labs.netnoteinc.com (Postfix) with ESMTP id D03E543C36\n",
      "\tfor <zzzz@localhost>; Thu, 22 Aug 2002 07:36:16 -0400 (EDT)\n",
      "\u001b[1;32;48m Received:\n",
      "\u001b[1;33;48m from localhost (localhost [127.0.0.1])\n",
      "\tby phobos.labs.netnoteinc.com (Postfix) with ESMTP id D03E543C36\n",
      "\tfor <zzzz@localhost>; Thu, 22 Aug 2002 07:36:16 -0400 (EDT)\n",
      "\u001b[1;32;48m Received:\n",
      "\u001b[1;33;48m from localhost (localhost [127.0.0.1])\n",
      "\tby phobos.labs.netnoteinc.com (Postfix) with ESMTP id D03E543C36\n",
      "\tfor <zzzz@localhost>; Thu, 22 Aug 2002 07:36:16 -0400 (EDT)\n",
      "\u001b[1;32;48m Received:\n",
      "\u001b[1;33;48m from localhost (localhost [127.0.0.1])\n",
      "\tby phobos.labs.netnoteinc.com (Postfix) with ESMTP id D03E543C36\n",
      "\tfor <zzzz@localhost>; Thu, 22 Aug 2002 07:36:16 -0400 (EDT)\n",
      "\u001b[1;32;48m Received:\n",
      "\u001b[1;33;48m from localhost (localhost [127.0.0.1])\n",
      "\tby phobos.labs.netnoteinc.com (Postfix) with ESMTP id D03E543C36\n",
      "\tfor <zzzz@localhost>; Thu, 22 Aug 2002 07:36:16 -0400 (EDT)\n",
      "\u001b[1;32;48m From:\n",
      "\u001b[1;33;48m Robert Elz <kre@munnari.OZ.AU>\n",
      "\u001b[1;32;48m To:\n",
      "\u001b[1;33;48m Chris Garrigues <cwg-dated-1030377287.06fa6d@DeepEddy.Com>\n",
      "\u001b[1;32;48m Cc:\n",
      "\u001b[1;33;48m exmh-workers@example.com\n",
      "\u001b[1;32;48m Subject:\n",
      "\u001b[1;33;48m Re: New Sequences Window\n",
      "\u001b[1;32;48m In-Reply-To:\n",
      "\u001b[1;33;48m <1029945287.4797.TMDA@deepeddy.vircio.com>\n",
      "\u001b[1;32;48m References:\n",
      "\u001b[1;33;48m <1029945287.4797.TMDA@deepeddy.vircio.com>\n",
      "    <1029882468.3116.TMDA@deepeddy.vircio.com> <9627.1029933001@munnari.OZ.AU>\n",
      "    <1029943066.26919.TMDA@deepeddy.vircio.com>\n",
      "    <1029944441.398.TMDA@deepeddy.vircio.com>\n",
      "\u001b[1;32;48m MIME-Version:\n",
      "\u001b[1;33;48m 1.0\n",
      "\u001b[1;32;48m Content-Type:\n",
      "\u001b[1;33;48m text/plain; charset=us-ascii\n",
      "\u001b[1;32;48m Message-Id:\n",
      "\u001b[1;33;48m <13258.1030015585@munnari.OZ.AU>\n",
      "\u001b[1;32;48m X-Loop:\n",
      "\u001b[1;33;48m exmh-workers@example.com\n",
      "\u001b[1;32;48m Sender:\n",
      "\u001b[1;33;48m exmh-workers-admin@example.com\n",
      "\u001b[1;32;48m Errors-To:\n",
      "\u001b[1;33;48m exmh-workers-admin@example.com\n",
      "\u001b[1;32;48m X-Beenthere:\n",
      "\u001b[1;33;48m exmh-workers@example.com\n",
      "\u001b[1;32;48m X-Mailman-Version:\n",
      "\u001b[1;33;48m 2.0.1\n",
      "\u001b[1;32;48m Precedence:\n",
      "\u001b[1;33;48m bulk\n",
      "\u001b[1;32;48m List-Help:\n",
      "\u001b[1;33;48m <mailto:exmh-workers-request@example.com?subject=help>\n",
      "\u001b[1;32;48m List-Post:\n",
      "\u001b[1;33;48m <mailto:exmh-workers@example.com>\n",
      "\u001b[1;32;48m List-Subscribe:\n",
      "\u001b[1;33;48m <https://listman.example.com/mailman/listinfo/exmh-workers>,\n",
      "    <mailto:exmh-workers-request@redhat.com?subject=subscribe>\n",
      "\u001b[1;32;48m List-Id:\n",
      "\u001b[1;33;48m Discussion list for EXMH developers <exmh-workers.example.com>\n",
      "\u001b[1;32;48m List-Unsubscribe:\n",
      "\u001b[1;33;48m <https://listman.example.com/mailman/listinfo/exmh-workers>,\n",
      "    <mailto:exmh-workers-request@redhat.com?subject=unsubscribe>\n",
      "\u001b[1;32;48m List-Archive:\n",
      "\u001b[1;33;48m <https://listman.example.com/mailman/private/exmh-workers/>\n",
      "\u001b[1;32;48m Date:\n",
      "\u001b[1;33;48m Thu, 22 Aug 2002 18:26:25 +0700\n"
     ]
    }
   ],
   "source": [
    "#obj.get_params() #[('text/plain', ''), ('charset', 'us-ascii')]\n",
    "for key in obj.keys():\n",
    "    print('\\033[1;32;48m {}:'.format(key))\n",
    "    print('\\033[1;33;48m {}'.format(obj.get(name=key)))"
   ]
  },
  {
   "cell_type": "code",
   "execution_count": 102,
   "metadata": {},
   "outputs": [
    {
     "name": "stdout",
     "output_type": "stream",
     "text": [
      "    Date:        Wed, 21 Aug 2002 10:54:46 -0500\n",
      "    From:        Chris Garrigues <cwg-dated-1030377287.06fa6d@DeepEddy.Com>\n",
      "    Message-ID:  <1029945287.4797.TMDA@deepeddy.vircio.com>\n",
      "\n",
      "\n",
      "  | I can't reproduce this error.\n",
      "\n",
      "For me it is very repeatable... (like every time, without fail).\n",
      "\n",
      "This is the debug log of the pick happening ...\n",
      "\n",
      "18:19:03 Pick_It {exec pick +inbox -list -lbrace -lbrace -subject ftp -rbrace -rbrace} {4852-4852 -sequence mercury}\n",
      "18:19:03 exec pick +inbox -list -lbrace -lbrace -subject ftp -rbrace -rbrace 4852-4852 -sequence mercury\n",
      "18:19:04 Ftoc_PickMsgs {{1 hit}}\n",
      "18:19:04 Marking 1 hits\n",
      "18:19:04 tkerror: syntax error in expression \"int ...\n",
      "\n",
      "Note, if I run the pick command by hand ...\n",
      "\n",
      "delta$ pick +inbox -list -lbrace -lbrace -subject ftp -rbrace -rbrace  4852-4852 -sequence mercury\n",
      "1 hit\n",
      "\n",
      "That's where the \"1 hit\" comes from (obviously).  The version of nmh I'm\n",
      "using is ...\n",
      "\n",
      "delta$ pick -version\n",
      "pick -- nmh-1.0.4 [compiled on fuchsia.cs.mu.OZ.AU at Sun Mar 17 14:55:56 ICT 2002]\n",
      "\n",
      "And the relevant part of my .mh_profile ...\n",
      "\n",
      "delta$ mhparam pick\n",
      "-seq sel -list\n",
      "\n",
      "\n",
      "Since the pick command works, the sequence (actually, both of them, the\n",
      "one that's explicit on the command line, from the search popup, and the\n",
      "one that comes from .mh_profile) do get created.\n",
      "\n",
      "kre\n",
      "\n",
      "ps: this is still using the version of the code form a day ago, I haven't\n",
      "been able to reach the cvs repository today (local routing issue I think).\n",
      "\n",
      "\n",
      "\n",
      "_______________________________________________\n",
      "Exmh-workers mailing list\n",
      "Exmh-workers@redhat.com\n",
      "https://listman.redhat.com/mailman/listinfo/exmh-workers\n",
      "\n",
      "\n"
     ]
    }
   ],
   "source": [
    "print(obj.get_payload())"
   ]
  },
  {
   "cell_type": "code",
   "execution_count": 184,
   "metadata": {},
   "outputs": [],
   "source": [
    "ham_file_objs = []\n",
    "for fp in ham_files:\n",
    "    with open(os.path.join(HAM_DIR, fp), 'rb') as file:\n",
    "        ham_file_objs.append( email.parser.BytesParser(policy=email.policy.default).parse(file) )\n",
    "\n",
    "spam_file_objs = []\n",
    "for fp in spam_files:\n",
    "    with open(os.path.join(SPAM_DIR, fp), 'rb') as file:\n",
    "        spam_file_objs.append( email.parser.BytesParser(policy=email.policy.default).parse(file) )"
   ]
  },
  {
   "cell_type": "code",
   "execution_count": 199,
   "metadata": {},
   "outputs": [],
   "source": [
    "import re\n",
    "from html import unescape\n",
    "\n",
    "def html_to_plain_text(html):\n",
    "    text = re.sub('<head.*?>.*?</head>', '', html, flags=re.M | re.S | re.I)\n",
    "    text = re.sub('<a\\s.*?>', ' HYPERLINK ', text, flags=re.M | re.S | re.I)\n",
    "    text = re.sub('<.*?>', '', text, flags=re.M | re.S)\n",
    "    text = re.sub(r'(\\s*\\n)+', '\\n', text, flags=re.M | re.S)\n",
    "    return unescape(text)"
   ]
  },
  {
   "cell_type": "code",
   "execution_count": 200,
   "metadata": {},
   "outputs": [],
   "source": [
    "# find alternative\n",
    "\n",
    "def email_to_text(email):\n",
    "    html = None\n",
    "    for part in email.walk():\n",
    "        ctype = part.get_content_type()\n",
    "        if not ctype in (\"text/plain\", \"text/html\"):\n",
    "            continue\n",
    "        try:\n",
    "            content = part.get_content()\n",
    "        except: # in case of encoding issues\n",
    "            content = str(part.get_payload())\n",
    "        if ctype == \"text/plain\":\n",
    "            return content\n",
    "        else:\n",
    "            html = content\n",
    "    if html:\n",
    "        return html_to_plain_text(html)\n"
   ]
  },
  {
   "cell_type": "code",
   "execution_count": 192,
   "metadata": {},
   "outputs": [],
   "source": []
  },
  {
   "cell_type": "code",
   "execution_count": 157,
   "metadata": {},
   "outputs": [
    {
     "data": {
      "text/plain": [
       "['0', '1', '4', '3', '16', '5', '36', '7', '64', '9']"
      ]
     },
     "execution_count": 157,
     "metadata": {},
     "output_type": "execute_result"
    }
   ],
   "source": [
    "\n",
    "#[f(x) if condition else g(x) for x in sequence]\n",
    "pay = [str(x) if x%2==1 else str(x**2) for x in range(10) ]\n",
    "pay"
   ]
  },
  {
   "cell_type": "code",
   "execution_count": 160,
   "metadata": {},
   "outputs": [
    {
     "data": {
      "text/plain": [
       "'0143165367649'"
      ]
     },
     "execution_count": 160,
     "metadata": {},
     "output_type": "execute_result"
    }
   ],
   "source": [
    "''.join([y for y in pay])"
   ]
  },
  {
   "cell_type": "code",
   "execution_count": null,
   "metadata": {},
   "outputs": [],
   "source": []
  }
 ],
 "metadata": {
  "kernelspec": {
   "display_name": "Python 3",
   "language": "python",
   "name": "python3"
  },
  "language_info": {
   "codemirror_mode": {
    "name": "ipython",
    "version": 3
   },
   "file_extension": ".py",
   "mimetype": "text/x-python",
   "name": "python",
   "nbconvert_exporter": "python",
   "pygments_lexer": "ipython3",
   "version": "3.6.1"
  },
  "toc": {
   "base_numbering": 1,
   "nav_menu": {},
   "number_sections": true,
   "sideBar": true,
   "skip_h1_title": false,
   "title_cell": "Table of Contents",
   "title_sidebar": "Contents",
   "toc_cell": false,
   "toc_position": {},
   "toc_section_display": true,
   "toc_window_display": false
  }
 },
 "nbformat": 4,
 "nbformat_minor": 2
}
