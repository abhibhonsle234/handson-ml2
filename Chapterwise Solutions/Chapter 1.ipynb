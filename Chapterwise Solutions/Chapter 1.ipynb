{
 "cells": [
  {
   "cell_type": "markdown",
   "metadata": {},
   "source": [
    "<div style=\"font-weight:bold\">\n",
    "    <div style=\"color:green;\">SUGGESTION SQUIRREL</div>\n",
    "    <div style=\"color:darkblue;\">NOTE CROW</div>\n",
    "    <div style=\"color:orange;\">CAUTION SCORPION</div>\n",
    "</div>"
   ]
  },
  {
   "cell_type": "markdown",
   "metadata": {},
   "source": [
    "<p>1. How would you define Machine Learning?<p>\n",
    "A. The field of study where a system is to learn from data and perform tasks without explicit programming. A machine learning system is said to perfrom a learning task T as measured by a performance measure P if it improves the metric score on every iteration or by an experience E."
   ]
  },
  {
   "cell_type": "markdown",
   "metadata": {},
   "source": [
    "<p>2. Can you name four types of problems where it shines?</p>\n",
    "A. Fraud detection, product verification, customer segmentation, stock price prediction"
   ]
  },
  {
   "cell_type": "markdown",
   "metadata": {},
   "source": [
    "<p>3. What is a labeled training set?</p>\n",
    "A. where every training instance has a category of continuous value assigned to it"
   ]
  },
  {
   "cell_type": "markdown",
   "metadata": {},
   "source": [
    "<p>4. What are the two most common supervised tasks?</p>\n",
    "A. Regression and Classification"
   ]
  },
  {
   "cell_type": "markdown",
   "metadata": {},
   "source": [
    "<p>5. Can you name four common unsupervised tasks?</p>\n",
    "A. Clustering, Dimensionality reduction, Anomaly detection (novelty detection), Association rule mining"
   ]
  },
  {
   "cell_type": "markdown",
   "metadata": {},
   "source": [
    "<p>6. What type of Machine Learning algorithm would you use to allow a robot to walk in various unknown terrains?</p>\n",
    "A. Reinforcement Learning"
   ]
  },
  {
   "cell_type": "markdown",
   "metadata": {},
   "source": [
    "<p>7. What type of algorithm would you use to segment your customers into multiple groups?</p>\n",
    "A. Clustering (unsupervised learning)"
   ]
  },
  {
   "cell_type": "markdown",
   "metadata": {},
   "source": [
    "<p>8. Would you frame the problem of spam detection as a supervised learning problem or an unsupervised learning problem?</p>\n",
    "A. Supervised learning problem as the training set will have to guide the algorithm whether the current trainng instance is classified as a spam or ham"
   ]
  },
  {
   "cell_type": "markdown",
   "metadata": {},
   "source": [
    "<p>9. What is an online learning system?</p>\n",
    "A. When a system can learn from new data feeded to while it is in production."
   ]
  },
  {
   "cell_type": "markdown",
   "metadata": {},
   "source": [
    "<p>10. What is out-of-core learning?</p>\n",
    "A. For huge datasets it is not posssible to train on the whole of it as a whole because of memory constraints hence it is required of system to break it into smaller memory friendly peices and train those pieces one at a time."
   ]
  },
  {
   "cell_type": "markdown",
   "metadata": {},
   "source": [
    "<p>11. What type of learning algorithm relies on a similarity measure to make predictions?</p>\n",
    "A. Instance based learning (ex: KNN)"
   ]
  },
  {
   "cell_type": "markdown",
   "metadata": {},
   "source": [
    "<p>12. What is the difference between a model parameter and a learning algorithm’s hyperparameter?</p>\n",
    "A. A model learns the values for the model parameters while training where as hyperparameters are to be set by the practitioner or a tuning algorithm to govern the training algorithm minutely"
   ]
  },
  {
   "cell_type": "markdown",
   "metadata": {},
   "source": [
    "<p>13. What do model-based learning algorithms search for? What is the most common strategy they use to succeed? How do they make predictions?</p>\n",
    "A. They search for distinction in the data or a fine line that can get there task done. They reach that line successfuly by training their model parameters and correcting them by minimising a cost funtion till they can reach the defined success. They predict on unseen data by using the final values of these model parameters"
   ]
  },
  {
   "cell_type": "markdown",
   "metadata": {},
   "source": [
    "<p>14. Can you name four of the main challenges in Machine Learning?</p>\n",
    "A. Data unavailabilty, Mismatch in data, Non-representative data, Overfitting/Underfitting algorithms"
   ]
  },
  {
   "cell_type": "markdown",
   "metadata": {},
   "source": [
    "<p>15. If your model performs great on the training data but generalizes poorly to new instances, what is happening? Can you name three possible solutions?</p>\n",
    "A. This is due to overfitting of the model on training data. Solutions- Get more data (train to represent test), regularize parameters, Clean data/remove noise or outliers"
   ]
  },
  {
   "cell_type": "markdown",
   "metadata": {},
   "source": [
    "<p>16. What is a test set, and why would you want to use it?</p>\n",
    "A. Test set is kep aside data for testing trained model and make it ready for production level. Test set should represent data expected in production"
   ]
  },
  {
   "cell_type": "markdown",
   "metadata": {},
   "source": [
    "<p>17. What is the purpose of a validation set?</p>\n",
    "A. Validation set is used to get evaluation of trained model before testing on test set. Validation set can be made out of train set."
   ]
  },
  {
   "cell_type": "markdown",
   "metadata": {},
   "source": [
    "<p>18. What is the train-dev set, when do you need it, and how do you use it? <b style=\"color:red;\">IMP</b></p>\n",
    "A. The train-dev set is used when there is a risk of mismatch between the training\n",
    "data and the data used in the validation and test datasets (which should always be\n",
    "as close as possible to the data used once the model is in production). The traindev\n",
    "set is a part of the training set that’s held out (the model is not trained on it).\n",
    "The model is trained on the rest of the training set, and evaluated on both the\n",
    "train-dev set and the validation set. If the model performs well on the training set\n",
    "but not on the train-dev set, then the model is likely overfitting the training set. If\n",
    "it performs well on both the training set and the train-dev set, but not on the validation\n",
    "set, then there is probably a significant data mismatch between the training\n",
    "data and the validation + test data, and you should try to improve the\n",
    "training data to make it look more like the validation + test data."
   ]
  },
  {
   "cell_type": "markdown",
   "metadata": {},
   "source": [
    "<p>19. What can go wrong if you tune hyperparameters using the test set?</p>\n",
    "A. This is called data snooping bias and will cause overfitting to test set for the model and it wont perform good in production "
   ]
  },
  {
   "cell_type": "code",
   "execution_count": null,
   "metadata": {},
   "outputs": [],
   "source": []
  }
 ],
 "metadata": {
  "kernelspec": {
   "display_name": "Python 3",
   "language": "python",
   "name": "python3"
  },
  "language_info": {
   "codemirror_mode": {
    "name": "ipython",
    "version": 3
   },
   "file_extension": ".py",
   "mimetype": "text/x-python",
   "name": "python",
   "nbconvert_exporter": "python",
   "pygments_lexer": "ipython3",
   "version": "3.6.0"
  },
  "toc": {
   "base_numbering": 1,
   "nav_menu": {},
   "number_sections": true,
   "sideBar": true,
   "skip_h1_title": false,
   "title_cell": "Table of Contents",
   "title_sidebar": "Contents",
   "toc_cell": false,
   "toc_position": {},
   "toc_section_display": true,
   "toc_window_display": false
  }
 },
 "nbformat": 4,
 "nbformat_minor": 2
}
